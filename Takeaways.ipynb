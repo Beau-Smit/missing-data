{
 "cells": [
  {
   "cell_type": "code",
   "execution_count": 1,
   "metadata": {},
   "outputs": [],
   "source": [
    "import simulate_data\n",
    "import remove_data\n",
    "import matrix_completion\n",
    "import trunc_nnm\n",
    "import errors\n",
    "\n",
    "from sklearn.preprocessing import normalize\n",
    "import numpy as np\n",
    "import numpy.linalg as la\n",
    "import pandas as pd"
   ]
  },
  {
   "cell_type": "code",
   "execution_count": 2,
   "metadata": {},
   "outputs": [
    {
     "data": {
      "text/html": [
       "<div>\n",
       "<style scoped>\n",
       "    .dataframe tbody tr th:only-of-type {\n",
       "        vertical-align: middle;\n",
       "    }\n",
       "\n",
       "    .dataframe tbody tr th {\n",
       "        vertical-align: top;\n",
       "    }\n",
       "\n",
       "    .dataframe thead th {\n",
       "        text-align: right;\n",
       "    }\n",
       "</style>\n",
       "<table border=\"1\" class=\"dataframe\">\n",
       "  <thead>\n",
       "    <tr style=\"text-align: right;\">\n",
       "      <th></th>\n",
       "      <th>0</th>\n",
       "      <th>1</th>\n",
       "      <th>2</th>\n",
       "      <th>3</th>\n",
       "      <th>4</th>\n",
       "      <th>5</th>\n",
       "      <th>6</th>\n",
       "      <th>7</th>\n",
       "      <th>8</th>\n",
       "      <th>9</th>\n",
       "      <th>10</th>\n",
       "    </tr>\n",
       "  </thead>\n",
       "  <tbody>\n",
       "    <tr>\n",
       "      <th>0</th>\n",
       "      <td>0.044135</td>\n",
       "      <td>0.120209</td>\n",
       "      <td>0.139686</td>\n",
       "      <td>0.000000</td>\n",
       "      <td>0.353553</td>\n",
       "      <td>0.136083</td>\n",
       "      <td>0.103695</td>\n",
       "      <td>0.000000</td>\n",
       "      <td>0.000000</td>\n",
       "      <td>0.070934</td>\n",
       "      <td>0.116450</td>\n",
       "    </tr>\n",
       "    <tr>\n",
       "      <th>1</th>\n",
       "      <td>0.147623</td>\n",
       "      <td>0.126829</td>\n",
       "      <td>0.069843</td>\n",
       "      <td>0.118678</td>\n",
       "      <td>0.000000</td>\n",
       "      <td>0.136083</td>\n",
       "      <td>0.103695</td>\n",
       "      <td>0.309077</td>\n",
       "      <td>0.230192</td>\n",
       "      <td>0.118839</td>\n",
       "      <td>0.135981</td>\n",
       "    </tr>\n",
       "    <tr>\n",
       "      <th>2</th>\n",
       "      <td>0.130882</td>\n",
       "      <td>0.093168</td>\n",
       "      <td>0.069843</td>\n",
       "      <td>0.000000</td>\n",
       "      <td>0.000000</td>\n",
       "      <td>0.000000</td>\n",
       "      <td>0.000000</td>\n",
       "      <td>0.000000</td>\n",
       "      <td>0.000000</td>\n",
       "      <td>0.110017</td>\n",
       "      <td>0.092773</td>\n",
       "    </tr>\n",
       "    <tr>\n",
       "      <th>3</th>\n",
       "      <td>0.132404</td>\n",
       "      <td>0.062906</td>\n",
       "      <td>0.069843</td>\n",
       "      <td>0.118678</td>\n",
       "      <td>0.000000</td>\n",
       "      <td>0.000000</td>\n",
       "      <td>0.103695</td>\n",
       "      <td>0.000000</td>\n",
       "      <td>0.062108</td>\n",
       "      <td>-0.001446</td>\n",
       "      <td>0.061139</td>\n",
       "    </tr>\n",
       "    <tr>\n",
       "      <th>4</th>\n",
       "      <td>0.152189</td>\n",
       "      <td>0.058108</td>\n",
       "      <td>0.069843</td>\n",
       "      <td>0.118678</td>\n",
       "      <td>0.000000</td>\n",
       "      <td>0.000000</td>\n",
       "      <td>0.103695</td>\n",
       "      <td>0.000000</td>\n",
       "      <td>0.000000</td>\n",
       "      <td>0.117391</td>\n",
       "      <td>0.060084</td>\n",
       "    </tr>\n",
       "  </tbody>\n",
       "</table>\n",
       "</div>"
      ],
      "text/plain": [
       "         0         1         2         3         4         5         6   \\\n",
       "0  0.044135  0.120209  0.139686  0.000000  0.353553  0.136083  0.103695   \n",
       "1  0.147623  0.126829  0.069843  0.118678  0.000000  0.136083  0.103695   \n",
       "2  0.130882  0.093168  0.069843  0.000000  0.000000  0.000000  0.000000   \n",
       "3  0.132404  0.062906  0.069843  0.118678  0.000000  0.000000  0.103695   \n",
       "4  0.152189  0.058108  0.069843  0.118678  0.000000  0.000000  0.103695   \n",
       "\n",
       "         7         8         9         10  \n",
       "0  0.000000  0.000000  0.070934  0.116450  \n",
       "1  0.309077  0.230192  0.118839  0.135981  \n",
       "2  0.000000  0.000000  0.110017  0.092773  \n",
       "3  0.000000  0.062108 -0.001446  0.061139  \n",
       "4  0.000000  0.000000  0.117391  0.060084  "
      ]
     },
     "execution_count": 2,
     "metadata": {},
     "output_type": "execute_result"
    }
   ],
   "source": [
    "# simulate data\n",
    "sim_df = simulate_data.sim_data(**simulate_data.sim_params)\n",
    "\n",
    "# drop categorical feature for now\n",
    "sim_df = sim_df.drop(\"Group\", axis=1)\n",
    "\n",
    "# Normalize data by feature (axis=0)\n",
    "# norms we could use for re-scaling later\n",
    "sim_norm, norms = normalize(sim_df, axis=0, return_norm=True)\n",
    "pd.DataFrame(sim_norm).head()"
   ]
  },
  {
   "cell_type": "code",
   "execution_count": 3,
   "metadata": {},
   "outputs": [],
   "source": [
    "# NNM parameters\n",
    "parameters = {\"eps_outer\": 1e-6,\n",
    "              \"eps_inner\": 1e-6,\n",
    "              \"beta\": 1,\n",
    "              \"max_iter_outer\": 1000,\n",
    "              \"max_iter_inner\": 1000}"
   ]
  },
  {
   "cell_type": "markdown",
   "metadata": {},
   "source": [
    "# Missing at Random"
   ]
  },
  {
   "cell_type": "markdown",
   "metadata": {},
   "source": [
    "### How do error rates vary by rate of missingness?"
   ]
  },
  {
   "cell_type": "code",
   "execution_count": 4,
   "metadata": {},
   "outputs": [],
   "source": [
    "results_lst = []\n",
    "\n",
    "for missingness_pct in np.arange(0, 100, 5):\n",
    "    sim_obs = remove_data.missing_at_random(sim_norm, perc_remove=missingness_pct, rand_seed=23)\n",
    "    \n",
    "    sim_recovered_svt = matrix_completion.svt(sim_obs, tau=5)\n",
    "    svt_error = la.norm(sim_norm - sim_recovered_svt, ord='fro')\n",
    "\n",
    "    rank = la.matrix_rank(sim_norm)\n",
    "    sim_recovered_nnm = trunc_nnm.truncated_NNM(rank, parameters, sim_obs)\n",
    "    nnm_error = la.norm(sim_norm - sim_recovered_nnm, ord='fro')\n",
    "    \n",
    "    results_lst.append([missingness_pct, svt_error, nnm_error])"
   ]
  },
  {
   "cell_type": "code",
   "execution_count": 5,
   "metadata": {},
   "outputs": [
    {
     "data": {
      "image/png": "[encoded data removed]",
      "text/plain": [
       "<Figure size 432x288 with 1 Axes>"
      ]
     },
     "metadata": {
      "needs_background": "light"
     },
     "output_type": "display_data"
    }
   ],
   "source": [
    "results_df = pd.DataFrame(results_lst, columns=[\"missingness\", \"SVT\", \"NNM\"]).set_index(\"missingness\")\n",
    "# TODO: Add legend\n",
    "errors.line_plot(results_df.index, results_df.SVT, results_df.NNM)"
   ]
  },
  {
   "cell_type": "markdown",
   "metadata": {},
   "source": [
    "NNM seems to be pretty stable across parameters, but SVT results can change depending on $\\tau$. SVT seems to converve with NNM results quite exactly when $\\tau$ is really small or really large."
   ]
  },
  {
   "cell_type": "markdown",
   "metadata": {},
   "source": [
    "##### Here we hold the error rate at 40% and change $\\tau$ for SVT"
   ]
  },
  {
   "cell_type": "code",
   "execution_count": 6,
   "metadata": {},
   "outputs": [],
   "source": [
    "tau_lst = []\n",
    "\n",
    "for tau in np.arange(0, 10, 1):\n",
    "    sim_obs = remove_data.missing_at_random(sim_norm, perc_remove=40, rand_seed=23)\n",
    "    \n",
    "    sim_recovered_svt = matrix_completion.svt(sim_obs, tau=tau)\n",
    "    svt_error = la.norm(np.round(sim_norm, 4) - np.round(sim_recovered_svt, 4), ord='fro')\n",
    "    \n",
    "    tau_lst.append([tau, svt_error])"
   ]
  },
  {
   "cell_type": "code",
   "execution_count": 7,
   "metadata": {},
   "outputs": [
    {
     "data": {
      "text/plain": [
       "<AxesSubplot:title={'center':'Error rate depending on tau'}, xlabel='tau'>"
      ]
     },
     "execution_count": 7,
     "metadata": {},
     "output_type": "execute_result"
    },
    {
     "data": {
      "image/png": "[encoded data removed]",
      "text/plain": [
       "<Figure size 432x288 with 1 Axes>"
      ]
     },
     "metadata": {
      "needs_background": "light"
     },
     "output_type": "display_data"
    }
   ],
   "source": [
    "tau_df = pd.DataFrame(tau_lst, columns=[\"tau\", \"error\"]).set_index(\"tau\")\n",
    "tau_df.plot(title=\"Error rate depending on tau\")"
   ]
  },
  {
   "cell_type": "markdown",
   "metadata": {},
   "source": [
    "SVT seems to want $\\tau$ to be somewhere midway between 0 and the rank of the original matrix. Should test on other data."
   ]
  },
  {
   "cell_type": "markdown",
   "metadata": {},
   "source": [
    "### How do error rates vary by rank of the matrix?"
   ]
  },
  {
   "cell_type": "code",
   "execution_count": 8,
   "metadata": {},
   "outputs": [],
   "source": [
    "# NNM parameters\n",
    "parameters = {\"eps_outer\": 1e-6,\n",
    "              \"eps_inner\": 1e-6,\n",
    "              \"beta\": 1,\n",
    "              \"max_iter_outer\": 1000,\n",
    "              \"max_iter_inner\": 1000}\n"
   ]
  },
  {
   "cell_type": "markdown",
   "metadata": {},
   "source": [
    "Here we vary rank for a synthetic dataset with 10% missing values"
   ]
  },
  {
   "cell_type": "code",
   "execution_count": 9,
   "metadata": {},
   "outputs": [],
   "source": [
    "results_lst = []\n",
    "n = 200\n",
    "p = 10\n",
    "\n",
    "for rank in range(p):\n",
    "\n",
    "    # Produce r-rank data\n",
    "    sim_norm = simulate_data.create_rank_r_matrix(rank, n, p)\n",
    "    # Set to only 10% missing\n",
    "    sim_obs = remove_data.missing_at_random(sim_norm, perc_remove=10, rand_seed=23)\n",
    "    \n",
    "    sim_recovered_svt = matrix_completion.svt(sim_obs, tau=5)\n",
    "    svt_error = la.norm(sim_norm - sim_recovered_svt, ord='fro')\n",
    "    \n",
    "    sim_recovered_nnm = trunc_nnm.truncated_NNM(rank, parameters, sim_obs)\n",
    "    nnm_error = la.norm(sim_norm - sim_recovered_nnm, ord='fro')\n",
    "    \n",
    "    results_lst.append([rank, svt_error, nnm_error])"
   ]
  },
  {
   "cell_type": "code",
   "execution_count": 10,
   "metadata": {},
   "outputs": [
    {
     "data": {
      "image/png": "[encoded data removed]",
      "text/plain": [
       "<Figure size 432x288 with 1 Axes>"
      ]
     },
     "metadata": {
      "needs_background": "light"
     },
     "output_type": "display_data"
    }
   ],
   "source": [
    "results_df = pd.DataFrame(results_lst, columns=[\"rank\", \"SVT\", \"NNM\"]).set_index(\"rank\")\n",
    "# TODO: Add legend and update axes\n",
    "errors.line_plot(results_df.index, results_df.SVT, results_df.NNM)"
   ]
  },
  {
   "cell_type": "markdown",
   "metadata": {},
   "source": [
    "The reconstruction error increases fairly linearly with rank."
   ]
  },
  {
   "cell_type": "markdown",
   "metadata": {},
   "source": [
    "### How do error rates vary by the type of missingness?"
   ]
  },
  {
   "cell_type": "code",
   "execution_count": 11,
   "metadata": {},
   "outputs": [],
   "source": [
    "# remove the last column\n",
    "original_normalized_arr = sim_norm[:,:10]"
   ]
  },
  {
   "cell_type": "code",
   "execution_count": 12,
   "metadata": {},
   "outputs": [],
   "source": [
    "def conditionally_remove_data(df, perc_missing):\n",
    "\n",
    "    # make Income missing conditional on age\n",
    "    sim_df = remove_data.missing_conditional_continuous(df, \n",
    "                                                     \"Income\", \n",
    "                                                     \"Income\", \n",
    "                                                     percent_missing=perc_missing)\n",
    "\n",
    "    # make Age missing conditional on itself\n",
    "    sim_df = remove_data.missing_conditional_continuous(sim_df, \n",
    "                                                     \"Age\", \n",
    "                                                     \"Age\", \n",
    "                                                     percent_missing=perc_missing)\n",
    "\n",
    "    # make NChild missing conditional on Continuous_EvenLikelihood_0\n",
    "    sim_df = remove_data.missing_conditional_continuous(sim_df, \n",
    "                                                     \"NChild\", \n",
    "                                                     \"Continuous_EvenLikelihood_0\", \n",
    "                                                     percent_missing=perc_missing)\n",
    "\n",
    "\n",
    "    # # make Continuous_LowLikelihood_0 missing conditional on Continuous_HighLikelihood_0\n",
    "    sim_df = remove_data.missing_conditional_continuous(sim_df, \n",
    "                                                     \"Continuous_LowLikelihood_0\", \n",
    "                                                     \"Continuous_HighLikelihood_0\", \n",
    "                                                     percent_missing=perc_missing)\n",
    "\n",
    "    # # make Continuous_EvenLikelihood_0 missing conditional on itself\n",
    "    sim_df = remove_data.missing_conditional_continuous(sim_df, \n",
    "                                                     \"Continuous_EvenLikelihood_0\", \n",
    "                                                     \"Continuous_EvenLikelihood_0\", \n",
    "                                                     percent_missing=perc_missing)\n",
    "\n",
    "    # # make Continuous_HighLikelihood_0 missing conditional on itself\n",
    "    sim_df = remove_data.missing_conditional_continuous(sim_df, \n",
    "                                                     \"Continuous_HighLikelihood_0\", \n",
    "                                                     \"Continuous_HighLikelihood_0\", \n",
    "                                                     percent_missing=perc_missing)\n",
    "\n",
    "    # conditionally remove entries from each discrete variable\n",
    "    sim_df = remove_data.missing_conditional_discrete(sim_df, \n",
    "                                                    'InCensus', perc_missing)\n",
    "    sim_df = remove_data.missing_conditional_discrete(sim_df, \n",
    "                                                    'Discrete_LowLikelihood_0', perc_missing)\n",
    "    sim_df = remove_data.missing_conditional_discrete(sim_df, \n",
    "                                                    'Discrete_EvenLikelihood_0', perc_missing)\n",
    "    sim_df = remove_data.missing_conditional_discrete(sim_df, \n",
    "                                                    'Discrete_HighLikelihood_0', perc_missing)\n",
    "    sim_df = remove_data.missing_conditional_discrete(sim_df, \n",
    "                                                    'Discrete_LowLikelihood_0', perc_missing)\n",
    "    \n",
    "    return sim_df"
   ]
  },
  {
   "cell_type": "code",
   "execution_count": 13,
   "metadata": {},
   "outputs": [],
   "source": [
    "# test the conditionally_remove_data function\n",
    "original_normalized_df = pd.DataFrame(original_normalized_arr, columns=sim_df.columns[:10])\n",
    "sim_conditional_missing = conditionally_remove_data(original_normalized_df, perc_missing=30)"
   ]
  },
  {
   "cell_type": "code",
   "execution_count": 14,
   "metadata": {},
   "outputs": [
    {
     "data": {
      "text/html": [
       "<div>\n",
       "<style scoped>\n",
       "    .dataframe tbody tr th:only-of-type {\n",
       "        vertical-align: middle;\n",
       "    }\n",
       "\n",
       "    .dataframe tbody tr th {\n",
       "        vertical-align: top;\n",
       "    }\n",
       "\n",
       "    .dataframe thead th {\n",
       "        text-align: right;\n",
       "    }\n",
       "</style>\n",
       "<table border=\"1\" class=\"dataframe\">\n",
       "  <thead>\n",
       "    <tr style=\"text-align: right;\">\n",
       "      <th></th>\n",
       "      <th>Continuous_HighLikelihood_0</th>\n",
       "      <th>Continuous_LowLikelihood_0</th>\n",
       "    </tr>\n",
       "  </thead>\n",
       "  <tbody>\n",
       "    <tr>\n",
       "      <th>171</th>\n",
       "      <td>153.0</td>\n",
       "      <td>NaN</td>\n",
       "    </tr>\n",
       "    <tr>\n",
       "      <th>77</th>\n",
       "      <td>153.0</td>\n",
       "      <td>132.0</td>\n",
       "    </tr>\n",
       "    <tr>\n",
       "      <th>128</th>\n",
       "      <td>154.0</td>\n",
       "      <td>212.0</td>\n",
       "    </tr>\n",
       "    <tr>\n",
       "      <th>90</th>\n",
       "      <td>155.0</td>\n",
       "      <td>128.0</td>\n",
       "    </tr>\n",
       "    <tr>\n",
       "      <th>181</th>\n",
       "      <td>155.0</td>\n",
       "      <td>98.0</td>\n",
       "    </tr>\n",
       "    <tr>\n",
       "      <th>17</th>\n",
       "      <td>157.0</td>\n",
       "      <td>164.0</td>\n",
       "    </tr>\n",
       "    <tr>\n",
       "      <th>100</th>\n",
       "      <td>157.0</td>\n",
       "      <td>131.0</td>\n",
       "    </tr>\n",
       "    <tr>\n",
       "      <th>135</th>\n",
       "      <td>158.0</td>\n",
       "      <td>206.0</td>\n",
       "    </tr>\n",
       "    <tr>\n",
       "      <th>51</th>\n",
       "      <td>158.0</td>\n",
       "      <td>117.0</td>\n",
       "    </tr>\n",
       "    <tr>\n",
       "      <th>72</th>\n",
       "      <td>158.0</td>\n",
       "      <td>154.0</td>\n",
       "    </tr>\n",
       "  </tbody>\n",
       "</table>\n",
       "</div>"
      ],
      "text/plain": [
       "     Continuous_HighLikelihood_0  Continuous_LowLikelihood_0\n",
       "171                        153.0                         NaN\n",
       "77                         153.0                       132.0\n",
       "128                        154.0                       212.0\n",
       "90                         155.0                       128.0\n",
       "181                        155.0                        98.0\n",
       "17                         157.0                       164.0\n",
       "100                        157.0                       131.0\n",
       "135                        158.0                       206.0\n",
       "51                         158.0                       117.0\n",
       "72                         158.0                       154.0"
      ]
     },
     "execution_count": 14,
     "metadata": {},
     "output_type": "execute_result"
    }
   ],
   "source": [
    "# confirm that Continuous_LowLikelihood_0 is missing for those with low values of Continuous_HighLikelihood_0\n",
    "sim_conditional_missing[['Continuous_HighLikelihood_0', 'Continuous_LowLikelihood_0']].sort_values(\"Continuous_HighLikelihood_0\")[:10]"
   ]
  },
  {
   "cell_type": "code",
   "execution_count": 15,
   "metadata": {},
   "outputs": [
    {
     "name": "stdout",
     "output_type": "stream",
     "text": [
      "0.308\n"
     ]
    },
    {
     "data": {
      "text/plain": [
       "Age                            0.300\n",
       "Income                         0.300\n",
       "NChild                         0.300\n",
       "InCensus                       0.280\n",
       "Discrete_LowLikelihood_0       0.460\n",
       "Discrete_EvenLikelihood_0      0.275\n",
       "Discrete_HighLikelihood_0      0.270\n",
       "Continuous_LowLikelihood_0     0.295\n",
       "Continuous_EvenLikelihood_0    0.300\n",
       "Continuous_HighLikelihood_0    0.300\n",
       "dtype: float64"
      ]
     },
     "execution_count": 15,
     "metadata": {},
     "output_type": "execute_result"
    }
   ],
   "source": [
    "# check total missingness in conditional missing\n",
    "conditional_total_missingness = pd.DataFrame(sim_conditional_missing).isnull().sum().sum() / pd.DataFrame(sim_conditional_missing).size\n",
    "print(conditional_total_missingness)\n",
    "\n",
    "# view missingness for features in conditional missing\n",
    "sim_conditional_missing.isnull().mean()"
   ]
  },
  {
   "cell_type": "code",
   "execution_count": 16,
   "metadata": {},
   "outputs": [],
   "source": [
    "# create randomly missing data matching the missingness of the conditional data\n",
    "sim_random_missing = remove_data.missing_at_random(original_normalized_arr, perc_remove=conditional_total_missingness*100, rand_seed=23)"
   ]
  },
  {
   "cell_type": "code",
   "execution_count": 17,
   "metadata": {},
   "outputs": [
    {
     "name": "stdout",
     "output_type": "stream",
     "text": [
      "0.308\n"
     ]
    },
    {
     "data": {
      "text/plain": [
       "Age                            0.325\n",
       "Income                         0.265\n",
       "NChild                         0.330\n",
       "InCensus                       0.335\n",
       "Discrete_LowLikelihood_0       0.280\n",
       "Discrete_EvenLikelihood_0      0.305\n",
       "Discrete_HighLikelihood_0      0.285\n",
       "Continuous_LowLikelihood_0     0.285\n",
       "Continuous_EvenLikelihood_0    0.335\n",
       "Continuous_HighLikelihood_0    0.335\n",
       "dtype: float64"
      ]
     },
     "execution_count": 17,
     "metadata": {},
     "output_type": "execute_result"
    }
   ],
   "source": [
    "# check total missingness in random missing\n",
    "print(pd.DataFrame(sim_random_missing).isnull().sum().sum() / pd.DataFrame(sim_random_missing).size)\n",
    "\n",
    "# view missingness for features in random missing\n",
    "pd.DataFrame(sim_random_missing, columns=original_normalized_df.columns).isnull().mean()"
   ]
  },
  {
   "cell_type": "code",
   "execution_count": 22,
   "metadata": {},
   "outputs": [],
   "source": [
    "results_lst = []\n",
    "\n",
    "for missingness_pct in range(0, 100, 10):\n",
    "    sim_conditional_missing = conditionally_remove_data(original_normalized_df, perc_missing=missingness_pct)\n",
    "    \n",
    "    # check total missingness in conditional missing\n",
    "    conditional_total_missingness = pd.DataFrame(sim_conditional_missing).isnull().sum().sum() / pd.DataFrame(sim_conditional_missing).size\n",
    "    \n",
    "    # create randomly missing data matching the missingness of the conditional data\n",
    "    sim_random_missing = remove_data.missing_at_random(original_normalized_arr, perc_remove=conditional_total_missingness*100, rand_seed=23)\n",
    "\n",
    "    # random missing\n",
    "    sim_recovered_random_svt = matrix_completion.svt(sim_random_missing, tau=5)\n",
    "    random_svt_error = la.norm(np.round(original_normalized_arr, 4) - np.round(sim_recovered_random_svt, 4), ord='fro')\n",
    "\n",
    "#     sim_recovered_random_nnm = trunc_nnm.truncated_NNM(10, parameters, sim_random_missing)\n",
    "#     random_nnm_error = la.norm(np.round(original_normalized_data, 4) - np.round(sim_recovered_random_nnm, 4), ord='fro')\n",
    "\n",
    "    # conditional missing\n",
    "    sim_recovered_conditional_svt = matrix_completion.svt(sim_conditional_missing, tau=5)\n",
    "    conditional_svt_error = la.norm(np.round(original_normalized_arr, 4) - np.round(sim_recovered_conditional_svt, 4), ord='fro')\n",
    "\n",
    "#     sim_recovered_conditional_nnm = trunc_nnm.truncated_NNM(10, parameters, sim_conditional_missing)\n",
    "#     conditional_nnm_error = la.norm(np.round(original_normalized_data, 4) - np.round(sim_recovered_conditional_nnm, 4), ord='fro')\n",
    "\n",
    "    results_lst.append([conditional_total_missingness, random_svt_error, conditional_svt_error])"
   ]
  },
  {
   "cell_type": "code",
   "execution_count": 23,
   "metadata": {},
   "outputs": [],
   "source": [
    "svt_errors = pd.DataFrame(results_lst, columns=['missingness','random','conditional']).set_index('missingness')"
   ]
  },
  {
   "cell_type": "code",
   "execution_count": 25,
   "metadata": {},
   "outputs": [
    {
     "data": {
      "text/html": [
       "<div>\n",
       "<style scoped>\n",
       "    .dataframe tbody tr th:only-of-type {\n",
       "        vertical-align: middle;\n",
       "    }\n",
       "\n",
       "    .dataframe tbody tr th {\n",
       "        vertical-align: top;\n",
       "    }\n",
       "\n",
       "    .dataframe thead th {\n",
       "        text-align: right;\n",
       "    }\n",
       "</style>\n",
       "<table border=\"1\" class=\"dataframe\">\n",
       "  <thead>\n",
       "    <tr style=\"text-align: right;\">\n",
       "      <th></th>\n",
       "      <th>random</th>\n",
       "      <th>conditional</th>\n",
       "    </tr>\n",
       "    <tr>\n",
       "      <th>missingness</th>\n",
       "      <th></th>\n",
       "      <th></th>\n",
       "    </tr>\n",
       "  </thead>\n",
       "  <tbody>\n",
       "    <tr>\n",
       "      <th>0.0020</th>\n",
       "      <td>463.622691</td>\n",
       "      <td>160.654910</td>\n",
       "    </tr>\n",
       "    <tr>\n",
       "      <th>0.1090</th>\n",
       "      <td>2881.162265</td>\n",
       "      <td>2417.256710</td>\n",
       "    </tr>\n",
       "    <tr>\n",
       "      <th>0.2095</th>\n",
       "      <td>4046.454003</td>\n",
       "      <td>3413.098006</td>\n",
       "    </tr>\n",
       "    <tr>\n",
       "      <th>0.3010</th>\n",
       "      <td>4872.400435</td>\n",
       "      <td>4178.347760</td>\n",
       "    </tr>\n",
       "    <tr>\n",
       "      <th>0.3940</th>\n",
       "      <td>5555.803362</td>\n",
       "      <td>4850.212057</td>\n",
       "    </tr>\n",
       "    <tr>\n",
       "      <th>0.4795</th>\n",
       "      <td>6111.550622</td>\n",
       "      <td>5467.116425</td>\n",
       "    </tr>\n",
       "    <tr>\n",
       "      <th>0.5695</th>\n",
       "      <td>6678.366492</td>\n",
       "      <td>6091.704523</td>\n",
       "    </tr>\n",
       "    <tr>\n",
       "      <th>0.6445</th>\n",
       "      <td>7118.341942</td>\n",
       "      <td>6605.127251</td>\n",
       "    </tr>\n",
       "    <tr>\n",
       "      <th>0.7205</th>\n",
       "      <td>7524.108984</td>\n",
       "      <td>7149.054483</td>\n",
       "    </tr>\n",
       "    <tr>\n",
       "      <th>0.8015</th>\n",
       "      <td>7921.239297</td>\n",
       "      <td>7739.405274</td>\n",
       "    </tr>\n",
       "  </tbody>\n",
       "</table>\n",
       "</div>"
      ],
      "text/plain": [
       "                  random  conditional\n",
       "missingness                          \n",
       "0.0020        463.622691   160.654910\n",
       "0.1090       2881.162265  2417.256710\n",
       "0.2095       4046.454003  3413.098006\n",
       "0.3010       4872.400435  4178.347760\n",
       "0.3940       5555.803362  4850.212057\n",
       "0.4795       6111.550622  5467.116425\n",
       "0.5695       6678.366492  6091.704523\n",
       "0.6445       7118.341942  6605.127251\n",
       "0.7205       7524.108984  7149.054483\n",
       "0.8015       7921.239297  7739.405274"
      ]
     },
     "execution_count": 25,
     "metadata": {},
     "output_type": "execute_result"
    }
   ],
   "source": [
    "svt_errors"
   ]
  },
  {
   "cell_type": "code",
   "execution_count": 26,
   "metadata": {},
   "outputs": [
    {
     "data": {
      "image/png": "[encoded data removed]",
      "text/plain": [
       "<Figure size 432x288 with 1 Axes>"
      ]
     },
     "metadata": {
      "needs_background": "light"
     },
     "output_type": "display_data"
    }
   ],
   "source": [
    "errors.line_plot(svt_errors.index, svt_errors.random, svt_errors.conditional)\n",
    "# TODO: change axes labels\n",
    "# TODO: add legend"
   ]
  }
 ],
 "metadata": {
  "interpreter": {
   "hash": "c6ab49f5d33c3ce7301436240baf1d68fecd837c84762ac5739e8937c0d65714"
  },
  "kernelspec": {
   "display_name": "Python 3",
   "language": "python",
   "name": "python3"
  },
  "language_info": {
   "codemirror_mode": {
    "name": "ipython",
    "version": 3
   },
   "file_extension": ".py",
   "mimetype": "text/x-python",
   "name": "python",
   "nbconvert_exporter": "python",
   "pygments_lexer": "ipython3",
   "version": "3.8.8"
  }
 },
 "nbformat": 4,
 "nbformat_minor": 4
}
