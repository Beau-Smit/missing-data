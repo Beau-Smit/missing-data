{
 "cells": [
  {
   "cell_type": "code",
   "execution_count": 1,
   "metadata": {},
   "outputs": [],
   "source": [
    "import simulate_data\n",
    "import remove_data\n",
    "import matrix_completion\n",
    "import trunc_nnm\n",
    "import errors\n",
    "\n",
    "from sklearn.preprocessing import normalize\n",
    "import numpy as np\n",
    "import numpy.linalg as la\n",
    "import pandas as pd"
   ]
  },
  {
   "cell_type": "code",
   "execution_count": 2,
   "metadata": {},
   "outputs": [
    {
     "data": {
      "text/html": [
       "<div>\n",
       "<style scoped>\n",
       "    .dataframe tbody tr th:only-of-type {\n",
       "        vertical-align: middle;\n",
       "    }\n",
       "\n",
       "    .dataframe tbody tr th {\n",
       "        vertical-align: top;\n",
       "    }\n",
       "\n",
       "    .dataframe thead th {\n",
       "        text-align: right;\n",
       "    }\n",
       "</style>\n",
       "<table border=\"1\" class=\"dataframe\">\n",
       "  <thead>\n",
       "    <tr style=\"text-align: right;\">\n",
       "      <th></th>\n",
       "      <th>0</th>\n",
       "      <th>1</th>\n",
       "      <th>2</th>\n",
       "      <th>3</th>\n",
       "      <th>4</th>\n",
       "      <th>5</th>\n",
       "      <th>6</th>\n",
       "      <th>7</th>\n",
       "      <th>8</th>\n",
       "      <th>9</th>\n",
       "      <th>10</th>\n",
       "    </tr>\n",
       "  </thead>\n",
       "  <tbody>\n",
       "    <tr>\n",
       "      <th>0</th>\n",
       "      <td>0.102940</td>\n",
       "      <td>0.158888</td>\n",
       "      <td>0.071247</td>\n",
       "      <td>0.11547</td>\n",
       "      <td>0.000000</td>\n",
       "      <td>0.000000</td>\n",
       "      <td>0.000000</td>\n",
       "      <td>0.0</td>\n",
       "      <td>0.234075</td>\n",
       "      <td>0.071527</td>\n",
       "      <td>0.160153</td>\n",
       "    </tr>\n",
       "    <tr>\n",
       "      <th>1</th>\n",
       "      <td>0.048351</td>\n",
       "      <td>0.094821</td>\n",
       "      <td>0.284988</td>\n",
       "      <td>0.00000</td>\n",
       "      <td>0.000000</td>\n",
       "      <td>0.000000</td>\n",
       "      <td>0.103695</td>\n",
       "      <td>-0.0</td>\n",
       "      <td>0.000000</td>\n",
       "      <td>0.027042</td>\n",
       "      <td>0.090909</td>\n",
       "    </tr>\n",
       "    <tr>\n",
       "      <th>2</th>\n",
       "      <td>0.152851</td>\n",
       "      <td>0.097185</td>\n",
       "      <td>0.213741</td>\n",
       "      <td>0.11547</td>\n",
       "      <td>0.000000</td>\n",
       "      <td>0.145865</td>\n",
       "      <td>0.103695</td>\n",
       "      <td>0.0</td>\n",
       "      <td>0.156401</td>\n",
       "      <td>0.057355</td>\n",
       "      <td>0.099013</td>\n",
       "    </tr>\n",
       "    <tr>\n",
       "      <th>3</th>\n",
       "      <td>0.040552</td>\n",
       "      <td>0.114134</td>\n",
       "      <td>0.071247</td>\n",
       "      <td>0.00000</td>\n",
       "      <td>0.408248</td>\n",
       "      <td>0.000000</td>\n",
       "      <td>0.103695</td>\n",
       "      <td>0.0</td>\n",
       "      <td>0.153779</td>\n",
       "      <td>0.041408</td>\n",
       "      <td>0.114183</td>\n",
       "    </tr>\n",
       "    <tr>\n",
       "      <th>4</th>\n",
       "      <td>0.031194</td>\n",
       "      <td>0.090761</td>\n",
       "      <td>0.142494</td>\n",
       "      <td>0.11547</td>\n",
       "      <td>0.000000</td>\n",
       "      <td>0.145865</td>\n",
       "      <td>0.000000</td>\n",
       "      <td>0.0</td>\n",
       "      <td>0.000000</td>\n",
       "      <td>0.082513</td>\n",
       "      <td>0.089331</td>\n",
       "    </tr>\n",
       "  </tbody>\n",
       "</table>\n",
       "</div>"
      ],
      "text/plain": [
       "         0         1         2        3         4         5         6    7   \\\n",
       "0  0.102940  0.158888  0.071247  0.11547  0.000000  0.000000  0.000000  0.0   \n",
       "1  0.048351  0.094821  0.284988  0.00000  0.000000  0.000000  0.103695 -0.0   \n",
       "2  0.152851  0.097185  0.213741  0.11547  0.000000  0.145865  0.103695  0.0   \n",
       "3  0.040552  0.114134  0.071247  0.00000  0.408248  0.000000  0.103695  0.0   \n",
       "4  0.031194  0.090761  0.142494  0.11547  0.000000  0.145865  0.000000  0.0   \n",
       "\n",
       "         8         9         10  \n",
       "0  0.234075  0.071527  0.160153  \n",
       "1  0.000000  0.027042  0.090909  \n",
       "2  0.156401  0.057355  0.099013  \n",
       "3  0.153779  0.041408  0.114183  \n",
       "4  0.000000  0.082513  0.089331  "
      ]
     },
     "execution_count": 2,
     "metadata": {},
     "output_type": "execute_result"
    }
   ],
   "source": [
    "# simulate data\n",
    "sim_df = simulate_data.sim_data(**simulate_data.sim_params)\n",
    "\n",
    "# drop categorical feature for now\n",
    "sim_df = sim_df.drop(\"Group\", axis=1)\n",
    "\n",
    "# Normalize data by feature (axis=0)\n",
    "# norms we could use for re-scaling later\n",
    "sim_norm, norms = normalize(sim_df, axis=0, return_norm=True)\n",
    "pd.DataFrame(sim_norm).head()"
   ]
  },
  {
   "cell_type": "code",
   "execution_count": 3,
   "metadata": {},
   "outputs": [],
   "source": [
    "# NNM parameters\n",
    "parameters = {\"eps_outer\": 1e-6,\n",
    "              \"eps_inner\": 1e-6,\n",
    "              \"beta\": 1,\n",
    "              \"max_iter_outer\": 100,\n",
    "              \"max_iter_inner\": 100}"
   ]
  },
  {
   "cell_type": "markdown",
   "metadata": {},
   "source": [
    "### How do error rates vary by rate of missingness?"
   ]
  },
  {
   "cell_type": "code",
   "execution_count": 4,
   "metadata": {},
   "outputs": [],
   "source": [
    "results_lst = []\n",
    "\n",
    "for missingness_pct in np.arange(0, 100, 5):\n",
    "    sim_obs = remove_data.missing_at_random(sim_norm, perc_remove=missingness_pct, rand_seed=23)\n",
    "    \n",
    "    rank = la.matrix_rank(sim_norm)\n",
    "    sim_recovered_nnm = trunc_nnm.truncated_NNM(rank, parameters, sim_obs)\n",
    "    nnm_error = la.norm(sim_norm - sim_recovered_nnm, ord='fro')\n",
    "\n",
    "    sim_obs = remove_data.missing_at_random(sim_norm, perc_remove=missingness_pct, rand_seed=23)\n",
    "\n",
    "    sim_recovered_svt = matrix_completion.svt(sim_obs, tau=0.5, stop_threshold=1e-3, max_iter=2000)\n",
    "    svt_error = la.norm(sim_norm - sim_recovered_svt, ord='fro')\n",
    "    \n",
    "    results_lst.append([missingness_pct, svt_error, nnm_error])"
   ]
  },
  {
   "cell_type": "code",
   "execution_count": 5,
   "metadata": {},
   "outputs": [
    {
     "data": {
      "image/png": "[encoded data removed]",
      "text/plain": [
       "<Figure size 432x288 with 1 Axes>"
      ]
     },
     "metadata": {
      "needs_background": "light"
     },
     "output_type": "display_data"
    }
   ],
   "source": [
    "results_df = pd.DataFrame(results_lst, columns=[\"missingness\", \"SVT\", \"NNM\"]).set_index(\"missingness\")\n",
    "\n",
    "errors.line_plot(results_df.index, results_df.SVT, results_df.NNM, \n",
    "                 save=True,\n",
    "                 title=\"Error Rate vs Missingness\",\n",
    "                 xlabel=\"Percent of data missing\",\n",
    "                 ylabel=\"Reconstruction error (Frobenius norm)\")"
   ]
  },
  {
   "cell_type": "markdown",
   "metadata": {},
   "source": [
    "Error rates increased sharply from no missingness to about 10% missingness, then increased at a lesser rate."
   ]
  },
  {
   "cell_type": "markdown",
   "metadata": {},
   "source": [
    "### How does missingness affect error rates by rank?"
   ]
  },
  {
   "cell_type": "code",
   "execution_count": null,
   "metadata": {},
   "outputs": [],
   "source": [
    "missingness_rank_df = pd.DataFrame(np.arange(0, 100, 5).tolist(), columns=[\"missingness\"])\n",
    "\n",
    "for rank in range(1, 11):\n",
    "    error_lst = []\n",
    "    for missingness in np.arange(0, 100, 5):\n",
    "        # create rank r matrix\n",
    "        sim_arr = simulate_data.create_rank_r_matrix(rank, 100, 10)\n",
    "\n",
    "        # normalize\n",
    "#         sim_norm, norms = normalize(sim_arr, axis=0, return_norm=True)\n",
    "\n",
    "        # remove data at random\n",
    "        sim_obs = remove_data.missing_at_random(sim_arr, perc_remove=missingness, rand_seed=23)\n",
    "\n",
    "        sim_recovered_svt = matrix_completion.svt(sim_obs, tau=5)\n",
    "        svt_error = la.norm(sim_arr - sim_recovered_svt, ord='fro')\n",
    "        \n",
    "        error_lst.append(svt_error)\n",
    "\n",
    "    missingness_rank_df[f\"rank_{rank}\"] = error_lst"
   ]
  },
  {
   "cell_type": "code",
   "execution_count": null,
   "metadata": {},
   "outputs": [],
   "source": [
    "# results_df = pd.DataFrame(results_lst, columns=[\"missingness\", \"SVT\", \"NNM\"]).set_index(\"missingness\")\n",
    "missingness_rank_df.set_index(\"missingness\").plot(title=\"Reconstruction Error by Rank and Missingness\")\n",
    "pass"
   ]
  },
  {
   "cell_type": "markdown",
   "metadata": {},
   "source": [
    "##### Here we hold the error rate at 40% and change $\\tau$ for SVT"
   ]
  },
  {
   "cell_type": "code",
   "execution_count": null,
   "metadata": {},
   "outputs": [],
   "source": [
    "tau_lst = []\n",
    "\n",
    "for tau in np.arange(0, 10, 1):\n",
    "    sim_obs = remove_data.missing_at_random(sim_norm, perc_remove=40, rand_seed=23)\n",
    "    \n",
    "    sim_recovered_svt = matrix_completion.svt(sim_obs, tau=tau)\n",
    "    svt_error = la.norm(np.round(sim_norm, 4) - np.round(sim_recovered_svt, 4), ord='fro')\n",
    "    \n",
    "    tau_lst.append([tau, svt_error])"
   ]
  },
  {
   "cell_type": "code",
   "execution_count": null,
   "metadata": {},
   "outputs": [],
   "source": [
    "tau_df = pd.DataFrame(tau_lst, columns=[\"tau\", \"error\"]).set_index(\"tau\")\n",
    "tau_df.plot(title=\"Error rate depending on tau\")"
   ]
  },
  {
   "cell_type": "markdown",
   "metadata": {},
   "source": [
    "SVT seems to want $\\tau$ to be somewhere midway between 0 and the rank of the original matrix. Should test on other data."
   ]
  },
  {
   "cell_type": "markdown",
   "metadata": {},
   "source": [
    "### How do error rates vary by rank of the matrix?"
   ]
  },
  {
   "cell_type": "code",
   "execution_count": 6,
   "metadata": {},
   "outputs": [],
   "source": [
    "# NNM parameters\n",
    "parameters = {\"eps_outer\": 1e-6,\n",
    "              \"eps_inner\": 1e-6,\n",
    "              \"beta\": 1,\n",
    "              \"max_iter_outer\": 100,\n",
    "              \"max_iter_inner\": 100}\n"
   ]
  },
  {
   "cell_type": "markdown",
   "metadata": {},
   "source": [
    "Here we vary rank for a synthetic dataset with 10% missing values"
   ]
  },
  {
   "cell_type": "code",
   "execution_count": 7,
   "metadata": {},
   "outputs": [],
   "source": [
    "results_lst = []\n",
    "n = 20\n",
    "p = 10\n",
    "np.set_printoptions(precision=3)\n",
    "np.set_printoptions(suppress=True)\n",
    "\n",
    "for rank in range(1,p):\n",
    "\n",
    "    # Produce r-rank data\n",
    "    data = simulate_data.create_rank_r_matrix(rank, n, p)\n",
    "\n",
    "    # Set to only 10% missing\n",
    "    sim_obs = remove_data.missing_at_random(data, perc_remove=10, rand_seed=23)\n",
    "\n",
    "    sim_recovered_svt = matrix_completion.svt(sim_obs, tau=10, stop_threshold=.0001)\n",
    "    svt_error = la.norm(data - sim_recovered_svt, ord='fro')\n",
    "\n",
    "    # reproduce same matrix\n",
    "    sim_obs = remove_data.missing_at_random(data, perc_remove=10, rand_seed=23)\n",
    "    sim_recovered_nnm = trunc_nnm.truncated_NNM(rank, parameters, sim_obs)\n",
    "    nnm_error = la.norm(data - sim_recovered_nnm, ord='fro')\n",
    "\n",
    "    results_lst.append([rank, svt_error, nnm_error])"
   ]
  },
  {
   "cell_type": "code",
   "execution_count": 8,
   "metadata": {},
   "outputs": [
    {
     "data": {
      "image/png": "[encoded data removed]",
      "text/plain": [
       "<Figure size 432x288 with 1 Axes>"
      ]
     },
     "metadata": {
      "needs_background": "light"
     },
     "output_type": "display_data"
    }
   ],
   "source": [
    "results_df = pd.DataFrame(results_lst, columns=[\"rank\", \"SVT\", \"NNM\"]).set_index(\"rank\")\n",
    "\n",
    "errors.line_plot(results_df.index, results_df.SVT, results_df.NNM, \n",
    "                 save=True,\n",
    "                 title=\"Error Rate vs Matrix Rank\",\n",
    "                 xlabel=\"Rank of the original matrix\",\n",
    "                 ylabel=\"Reconstruction error (Frobenius norm)\")"
   ]
  },
  {
   "cell_type": "markdown",
   "metadata": {},
   "source": [
    "The reconstruction error increases fairly linearly with rank."
   ]
  },
  {
   "cell_type": "markdown",
   "metadata": {},
   "source": [
    "### How do error rates vary by the type of missingness?"
   ]
  },
  {
   "cell_type": "code",
   "execution_count": 9,
   "metadata": {},
   "outputs": [],
   "source": [
    "# remove the last column\n",
    "original_normalized_arr = sim_norm[:,:10]\n",
    "original_normalized_df = pd.DataFrame(original_normalized_arr, columns=sim_df.columns[:10])"
   ]
  },
  {
   "cell_type": "code",
   "execution_count": 10,
   "metadata": {},
   "outputs": [],
   "source": [
    "def conditionally_remove_data(df, perc_missing):\n",
    "\n",
    "    # make Income missing conditional on age\n",
    "    sim_df = remove_data.missing_conditional_continuous(df, \n",
    "                                                     \"Income\", \n",
    "                                                     \"Income\", \n",
    "                                                     percent_missing=perc_missing)\n",
    "\n",
    "    # make Age missing conditional on itself\n",
    "    sim_df = remove_data.missing_conditional_continuous(sim_df, \n",
    "                                                     \"Age\", \n",
    "                                                     \"Age\", \n",
    "                                                     percent_missing=perc_missing)\n",
    "\n",
    "    # make NChild missing conditional on Continuous_EvenLikelihood_0\n",
    "    sim_df = remove_data.missing_conditional_continuous(sim_df, \n",
    "                                                     \"NChild\", \n",
    "                                                     \"Continuous_EvenLikelihood_0\", \n",
    "                                                     percent_missing=perc_missing)\n",
    "\n",
    "\n",
    "    # # make Continuous_LowLikelihood_0 missing conditional on Continuous_HighLikelihood_0\n",
    "    sim_df = remove_data.missing_conditional_continuous(sim_df, \n",
    "                                                     \"Continuous_LowLikelihood_0\", \n",
    "                                                     \"Continuous_HighLikelihood_0\", \n",
    "                                                     percent_missing=perc_missing)\n",
    "\n",
    "    # # make Continuous_EvenLikelihood_0 missing conditional on itself\n",
    "    sim_df = remove_data.missing_conditional_continuous(sim_df, \n",
    "                                                     \"Continuous_EvenLikelihood_0\", \n",
    "                                                     \"Continuous_EvenLikelihood_0\", \n",
    "                                                     percent_missing=perc_missing)\n",
    "\n",
    "    # # make Continuous_HighLikelihood_0 missing conditional on itself\n",
    "    sim_df = remove_data.missing_conditional_continuous(sim_df, \n",
    "                                                     \"Continuous_HighLikelihood_0\", \n",
    "                                                     \"Continuous_HighLikelihood_0\", \n",
    "                                                     percent_missing=perc_missing)\n",
    "\n",
    "    # conditionally remove entries from each discrete variable\n",
    "    sim_df = remove_data.missing_conditional_discrete(sim_df, \n",
    "                                                    'InCensus', perc_missing)\n",
    "    sim_df = remove_data.missing_conditional_discrete(sim_df, \n",
    "                                                    'Discrete_LowLikelihood_0', perc_missing)\n",
    "    sim_df = remove_data.missing_conditional_discrete(sim_df, \n",
    "                                                    'Discrete_EvenLikelihood_0', perc_missing)\n",
    "    sim_df = remove_data.missing_conditional_discrete(sim_df, \n",
    "                                                    'Discrete_HighLikelihood_0', perc_missing)\n",
    "    sim_df = remove_data.missing_conditional_discrete(sim_df, \n",
    "                                                    'Discrete_LowLikelihood_0', perc_missing)\n",
    "    \n",
    "    return sim_df"
   ]
  },
  {
   "cell_type": "code",
   "execution_count": 11,
   "metadata": {},
   "outputs": [],
   "source": [
    "# test the conditionally_remove_data function\n",
    "sim_conditional_missing = conditionally_remove_data(original_normalized_df, perc_missing=30)"
   ]
  },
  {
   "cell_type": "code",
   "execution_count": 12,
   "metadata": {},
   "outputs": [
    {
     "data": {
      "text/html": [
       "<div>\n",
       "<style scoped>\n",
       "    .dataframe tbody tr th:only-of-type {\n",
       "        vertical-align: middle;\n",
       "    }\n",
       "\n",
       "    .dataframe tbody tr th {\n",
       "        vertical-align: top;\n",
       "    }\n",
       "\n",
       "    .dataframe thead th {\n",
       "        text-align: right;\n",
       "    }\n",
       "</style>\n",
       "<table border=\"1\" class=\"dataframe\">\n",
       "  <thead>\n",
       "    <tr style=\"text-align: right;\">\n",
       "      <th></th>\n",
       "      <th>Continuous_HighLikelihood_0</th>\n",
       "      <th>Continuous_LowLikelihood_0</th>\n",
       "    </tr>\n",
       "  </thead>\n",
       "  <tbody>\n",
       "    <tr>\n",
       "      <th>63</th>\n",
       "      <td>0.023661</td>\n",
       "      <td>NaN</td>\n",
       "    </tr>\n",
       "    <tr>\n",
       "      <th>6</th>\n",
       "      <td>0.039940</td>\n",
       "      <td>NaN</td>\n",
       "    </tr>\n",
       "    <tr>\n",
       "      <th>3</th>\n",
       "      <td>0.041408</td>\n",
       "      <td>0.0</td>\n",
       "    </tr>\n",
       "    <tr>\n",
       "      <th>21</th>\n",
       "      <td>0.043293</td>\n",
       "      <td>NaN</td>\n",
       "    </tr>\n",
       "    <tr>\n",
       "      <th>48</th>\n",
       "      <td>0.043496</td>\n",
       "      <td>NaN</td>\n",
       "    </tr>\n",
       "    <tr>\n",
       "      <th>14</th>\n",
       "      <td>0.048487</td>\n",
       "      <td>0.0</td>\n",
       "    </tr>\n",
       "    <tr>\n",
       "      <th>98</th>\n",
       "      <td>0.051400</td>\n",
       "      <td>NaN</td>\n",
       "    </tr>\n",
       "    <tr>\n",
       "      <th>99</th>\n",
       "      <td>0.057348</td>\n",
       "      <td>0.0</td>\n",
       "    </tr>\n",
       "    <tr>\n",
       "      <th>2</th>\n",
       "      <td>0.057355</td>\n",
       "      <td>0.0</td>\n",
       "    </tr>\n",
       "    <tr>\n",
       "      <th>9</th>\n",
       "      <td>0.061427</td>\n",
       "      <td>0.0</td>\n",
       "    </tr>\n",
       "  </tbody>\n",
       "</table>\n",
       "</div>"
      ],
      "text/plain": [
       "    Continuous_HighLikelihood_0  Continuous_LowLikelihood_0\n",
       "63                     0.023661                         NaN\n",
       "6                      0.039940                         NaN\n",
       "3                      0.041408                         0.0\n",
       "21                     0.043293                         NaN\n",
       "48                     0.043496                         NaN\n",
       "14                     0.048487                         0.0\n",
       "98                     0.051400                         NaN\n",
       "99                     0.057348                         0.0\n",
       "2                      0.057355                         0.0\n",
       "9                      0.061427                         0.0"
      ]
     },
     "execution_count": 12,
     "metadata": {},
     "output_type": "execute_result"
    }
   ],
   "source": [
    "# confirm that Continuous_LowLikelihood_0 is missing for those with low values of Continuous_HighLikelihood_0\n",
    "sim_conditional_missing[['Continuous_HighLikelihood_0', 'Continuous_LowLikelihood_0']].sort_values(\"Continuous_HighLikelihood_0\")[:10]"
   ]
  },
  {
   "cell_type": "code",
   "execution_count": 13,
   "metadata": {},
   "outputs": [
    {
     "name": "stdout",
     "output_type": "stream",
     "text": [
      "0.303\n"
     ]
    },
    {
     "data": {
      "text/plain": [
       "Age                            0.31\n",
       "Income                         0.31\n",
       "NChild                         0.28\n",
       "InCensus                       0.26\n",
       "Discrete_LowLikelihood_0       0.49\n",
       "Discrete_EvenLikelihood_0      0.25\n",
       "Discrete_HighLikelihood_0      0.28\n",
       "Continuous_LowLikelihood_0     0.28\n",
       "Continuous_EvenLikelihood_0    0.28\n",
       "Continuous_HighLikelihood_0    0.29\n",
       "dtype: float64"
      ]
     },
     "execution_count": 13,
     "metadata": {},
     "output_type": "execute_result"
    }
   ],
   "source": [
    "# check total missingness in conditional missing\n",
    "conditional_total_missingness = pd.DataFrame(sim_conditional_missing).isnull().sum().sum() / pd.DataFrame(sim_conditional_missing).size\n",
    "print(conditional_total_missingness)\n",
    "\n",
    "# view missingness for features in conditional missing\n",
    "sim_conditional_missing.isnull().mean()"
   ]
  },
  {
   "cell_type": "code",
   "execution_count": 14,
   "metadata": {},
   "outputs": [],
   "source": [
    "# create randomly missing data matching the missingness of the conditional data\n",
    "sim_random_missing = remove_data.missing_at_random(original_normalized_arr, perc_remove=conditional_total_missingness*100, rand_seed=23)"
   ]
  },
  {
   "cell_type": "code",
   "execution_count": 15,
   "metadata": {},
   "outputs": [
    {
     "name": "stdout",
     "output_type": "stream",
     "text": [
      "0.303\n"
     ]
    },
    {
     "data": {
      "text/plain": [
       "Age                            0.28\n",
       "Income                         0.23\n",
       "NChild                         0.32\n",
       "InCensus                       0.36\n",
       "Discrete_LowLikelihood_0       0.34\n",
       "Discrete_EvenLikelihood_0      0.21\n",
       "Discrete_HighLikelihood_0      0.31\n",
       "Continuous_LowLikelihood_0     0.34\n",
       "Continuous_EvenLikelihood_0    0.34\n",
       "Continuous_HighLikelihood_0    0.30\n",
       "dtype: float64"
      ]
     },
     "execution_count": 15,
     "metadata": {},
     "output_type": "execute_result"
    }
   ],
   "source": [
    "# check total missingness in random missing\n",
    "print(pd.DataFrame(sim_random_missing).isnull().sum().sum() / pd.DataFrame(sim_random_missing).size)\n",
    "\n",
    "# view missingness for features in random missing\n",
    "pd.DataFrame(sim_random_missing, columns=original_normalized_df.columns).isnull().mean()"
   ]
  },
  {
   "cell_type": "code",
   "execution_count": 31,
   "metadata": {},
   "outputs": [
    {
     "name": "stdout",
     "output_type": "stream",
     "text": [
      "10\n",
      "20\n",
      "30\n",
      "40\n",
      "50\n",
      "60\n",
      "70\n",
      "80\n"
     ]
    }
   ],
   "source": [
    "results_lst = []\n",
    "\n",
    "for missingness_pct in range(10, 90, 10):\n",
    "    print(missingness_pct)\n",
    "    sim_conditional_missing = conditionally_remove_data(original_normalized_df, perc_missing=missingness_pct)\n",
    "    \n",
    "    # check total missingness in conditional missing\n",
    "    conditional_total_missingness = pd.DataFrame(sim_conditional_missing).isnull().sum().sum() / pd.DataFrame(sim_conditional_missing).size\n",
    "    \n",
    "    # create randomly missing data matching the missingness of the conditional data\n",
    "    sim_random_missing = remove_data.missing_at_random(original_normalized_arr, perc_remove=conditional_total_missingness*100, rand_seed=23)\n",
    "\n",
    "    # random missing\n",
    "    sim_recovered_random_svt = matrix_completion.svt(sim_random_missing, tau=0.5)\n",
    "    random_svt_error = la.norm(original_normalized_arr - sim_recovered_random_svt, ord='fro')\n",
    "    \n",
    "    #sim_recovered_random_nnm = trunc_nnm.truncated_NNM(10, parameters, sim_random_missing)\n",
    "    #random_nnm_error = la.norm(original_normalized_arr - sim_recovered_random_nnm, ord='fro')\n",
    "\n",
    "    # conditional missing\n",
    "    sim_recovered_conditional_svt = matrix_completion.svt(sim_conditional_missing, tau=0.5)\n",
    "    conditional_svt_error = la.norm(original_normalized_arr - sim_recovered_conditional_svt, ord='fro')\n",
    "\n",
    "    #sim_recovered_conditional_nnm = trunc_nnm.truncated_NNM(10, parameters, sim_conditional_missing)\n",
    "    #conditional_nnm_error = la.norm(original_normalized_arr - sim_recovered_conditional_nnm, ord='fro')\n",
    "\n",
    "    results_lst.append([conditional_total_missingness, random_svt_error, conditional_svt_error])"
   ]
  },
  {
   "cell_type": "code",
   "execution_count": 28,
   "metadata": {},
   "outputs": [],
   "source": [
    "svt_errors = pd.DataFrame(results_lst, columns=['missingness','random','conditional']).set_index('missingness')"
   ]
  },
  {
   "cell_type": "code",
   "execution_count": 29,
   "metadata": {},
   "outputs": [
    {
     "data": {
      "text/html": [
       "<div>\n",
       "<style scoped>\n",
       "    .dataframe tbody tr th:only-of-type {\n",
       "        vertical-align: middle;\n",
       "    }\n",
       "\n",
       "    .dataframe tbody tr th {\n",
       "        vertical-align: top;\n",
       "    }\n",
       "\n",
       "    .dataframe thead th {\n",
       "        text-align: right;\n",
       "    }\n",
       "</style>\n",
       "<table border=\"1\" class=\"dataframe\">\n",
       "  <thead>\n",
       "    <tr style=\"text-align: right;\">\n",
       "      <th></th>\n",
       "      <th>random</th>\n",
       "      <th>conditional</th>\n",
       "    </tr>\n",
       "    <tr>\n",
       "      <th>missingness</th>\n",
       "      <th></th>\n",
       "      <th></th>\n",
       "    </tr>\n",
       "  </thead>\n",
       "  <tbody>\n",
       "    <tr>\n",
       "      <th>0.115</th>\n",
       "      <td>1.276906</td>\n",
       "      <td>1.256001</td>\n",
       "    </tr>\n",
       "    <tr>\n",
       "      <th>0.214</th>\n",
       "      <td>1.555949</td>\n",
       "      <td>1.216609</td>\n",
       "    </tr>\n",
       "    <tr>\n",
       "      <th>0.301</th>\n",
       "      <td>1.874089</td>\n",
       "      <td>1.520727</td>\n",
       "    </tr>\n",
       "    <tr>\n",
       "      <th>0.387</th>\n",
       "      <td>2.057942</td>\n",
       "      <td>1.508344</td>\n",
       "    </tr>\n",
       "    <tr>\n",
       "      <th>0.473</th>\n",
       "      <td>2.242904</td>\n",
       "      <td>1.913476</td>\n",
       "    </tr>\n",
       "    <tr>\n",
       "      <th>0.572</th>\n",
       "      <td>2.392515</td>\n",
       "      <td>2.116618</td>\n",
       "    </tr>\n",
       "    <tr>\n",
       "      <th>0.640</th>\n",
       "      <td>2.536125</td>\n",
       "      <td>2.242249</td>\n",
       "    </tr>\n",
       "    <tr>\n",
       "      <th>0.710</th>\n",
       "      <td>99.658948</td>\n",
       "      <td>2.379149</td>\n",
       "    </tr>\n",
       "  </tbody>\n",
       "</table>\n",
       "</div>"
      ],
      "text/plain": [
       "                random  conditional\n",
       "missingness                        \n",
       "0.115         1.276906     1.256001\n",
       "0.214         1.555949     1.216609\n",
       "0.301         1.874089     1.520727\n",
       "0.387         2.057942     1.508344\n",
       "0.473         2.242904     1.913476\n",
       "0.572         2.392515     2.116618\n",
       "0.640         2.536125     2.242249\n",
       "0.710        99.658948     2.379149"
      ]
     },
     "execution_count": 29,
     "metadata": {},
     "output_type": "execute_result"
    }
   ],
   "source": [
    "svt_errors"
   ]
  },
  {
   "cell_type": "code",
   "execution_count": 30,
   "metadata": {},
   "outputs": [
    {
     "data": {
      "image/png": "[encoded data removed]",
      "text/plain": [
       "<Figure size 432x288 with 1 Axes>"
      ]
     },
     "metadata": {
      "needs_background": "light"
     },
     "output_type": "display_data"
    }
   ],
   "source": [
    "errors.line_plot(svt_errors.index*100, svt_errors.random, svt_errors.conditional,\n",
    "                 save=True,\n",
    "                 title=\"Error Rate vs Type of Missingness\",\n",
    "                 xlabel=\"Percent of data missing\",\n",
    "                 ylabel=\"Reconstruction error (Frobenius norm)\")"
   ]
  },
  {
   "cell_type": "markdown",
   "metadata": {},
   "source": [
    "The error rate for the randomly missing data is strictly greater than the error rate for conditionally missing data. This is consistent across many randomizations. Though this finding may be particular to the data and implementation of removing values, we have a theory that helps explain this phenomenon. When entries are missing based on features within the data, the missingness has structure. In other words, being missing may indicate something about the entry (high or low value) or about another feature that is related to it. Introducing this structure into the data may help the SVT algorithm slightly by indicating subtle information about the missing entries. In contrast, entries that are missing at random do not signal anything about the missing value.\n",
    "\n",
    "With both randomly missing data and conditionally missing data, the error rates increase quickly going from no missing data to about 10% missing. Then, the error rate increases relatively linearly."
   ]
  },
  {
   "cell_type": "markdown",
   "metadata": {},
   "source": [
    "##### How were the missing data produced?\n",
    "\n",
    "Both the randomly missing data and the conditionally missing data were constructed from the same synthetic dataset. The randomly missing dataset was constructed by selecting random elements to drop from the data. Therefore, in expectation, each feature should have the same amount of missingness. \n",
    "\n",
    "The conditional data was generated by one of two processes depending on whether the feature is continuous or binary. For continuous features, values were removed probablistically based on values within the feature or values from another feature. For instance, Income values could be more likely missing if income is a low value. Alternatively, Income values could be removed based on whether age is a high or low value. For binary features, we randomly assigned different likelihoods of missingness to values of 0 and 1. Thus, values of 1 may be removed at a higher rate than values of 0."
   ]
  },
  {
   "cell_type": "code",
   "execution_count": null,
   "metadata": {},
   "outputs": [],
   "source": []
  }
 ],
 "metadata": {
  "interpreter": {
   "hash": "c6ab49f5d33c3ce7301436240baf1d68fecd837c84762ac5739e8937c0d65714"
  },
  "kernelspec": {
   "display_name": "Python 3",
   "language": "python",
   "name": "python3"
  },
  "language_info": {
   "codemirror_mode": {
    "name": "ipython",
    "version": 3
   },
   "file_extension": ".py",
   "mimetype": "text/x-python",
   "name": "python",
   "nbconvert_exporter": "python",
   "pygments_lexer": "ipython3",
   "version": "3.9.7"
  }
 },
 "nbformat": 4,
 "nbformat_minor": 4
}
