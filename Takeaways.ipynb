{
 "cells": [
  {
   "cell_type": "code",
   "execution_count": 183,
   "metadata": {},
   "outputs": [],
   "source": [
    "import simulate_data\n",
    "import remove_data\n",
    "import matrix_completion\n",
    "import trunc_nnm\n",
    "import errors\n",
    "\n",
    "from sklearn.preprocessing import Normalizer\n",
    "import numpy as np\n",
    "import numpy.linalg as la\n",
    "import pandas as pd"
   ]
  },
  {
   "cell_type": "code",
   "execution_count": 184,
   "metadata": {},
   "outputs": [
    {
     "data": {
      "text/html": [
       "<div>\n",
       "<style scoped>\n",
       "    .dataframe tbody tr th:only-of-type {\n",
       "        vertical-align: middle;\n",
       "    }\n",
       "\n",
       "    .dataframe tbody tr th {\n",
       "        vertical-align: top;\n",
       "    }\n",
       "\n",
       "    .dataframe thead th {\n",
       "        text-align: right;\n",
       "    }\n",
       "</style>\n",
       "<table border=\"1\" class=\"dataframe\">\n",
       "  <thead>\n",
       "    <tr style=\"text-align: right;\">\n",
       "      <th></th>\n",
       "      <th>0</th>\n",
       "      <th>1</th>\n",
       "      <th>2</th>\n",
       "      <th>3</th>\n",
       "      <th>4</th>\n",
       "      <th>5</th>\n",
       "      <th>6</th>\n",
       "      <th>7</th>\n",
       "      <th>8</th>\n",
       "      <th>9</th>\n",
       "      <th>10</th>\n",
       "    </tr>\n",
       "  </thead>\n",
       "  <tbody>\n",
       "    <tr>\n",
       "      <th>0</th>\n",
       "      <td>0.000972</td>\n",
       "      <td>0.694418</td>\n",
       "      <td>0.000024</td>\n",
       "      <td>0.000000</td>\n",
       "      <td>0.0</td>\n",
       "      <td>0.000012</td>\n",
       "      <td>0.000012</td>\n",
       "      <td>-0.000000</td>\n",
       "      <td>0.000000</td>\n",
       "      <td>0.023743</td>\n",
       "      <td>0.719180</td>\n",
       "    </tr>\n",
       "    <tr>\n",
       "      <th>1</th>\n",
       "      <td>0.001275</td>\n",
       "      <td>0.624960</td>\n",
       "      <td>0.000000</td>\n",
       "      <td>0.000000</td>\n",
       "      <td>0.0</td>\n",
       "      <td>0.000022</td>\n",
       "      <td>0.000022</td>\n",
       "      <td>0.000000</td>\n",
       "      <td>0.052415</td>\n",
       "      <td>0.094452</td>\n",
       "      <td>0.773146</td>\n",
       "    </tr>\n",
       "    <tr>\n",
       "      <th>2</th>\n",
       "      <td>0.000465</td>\n",
       "      <td>0.691109</td>\n",
       "      <td>0.000010</td>\n",
       "      <td>0.000010</td>\n",
       "      <td>0.0</td>\n",
       "      <td>0.000010</td>\n",
       "      <td>0.000010</td>\n",
       "      <td>0.000000</td>\n",
       "      <td>0.000000</td>\n",
       "      <td>0.030493</td>\n",
       "      <td>0.722107</td>\n",
       "    </tr>\n",
       "    <tr>\n",
       "      <th>3</th>\n",
       "      <td>0.000466</td>\n",
       "      <td>0.699460</td>\n",
       "      <td>0.000000</td>\n",
       "      <td>0.000009</td>\n",
       "      <td>0.0</td>\n",
       "      <td>0.000000</td>\n",
       "      <td>0.000009</td>\n",
       "      <td>0.000000</td>\n",
       "      <td>0.000000</td>\n",
       "      <td>0.014580</td>\n",
       "      <td>0.714523</td>\n",
       "    </tr>\n",
       "    <tr>\n",
       "      <th>4</th>\n",
       "      <td>0.000634</td>\n",
       "      <td>0.680330</td>\n",
       "      <td>0.000024</td>\n",
       "      <td>0.000012</td>\n",
       "      <td>0.0</td>\n",
       "      <td>0.000000</td>\n",
       "      <td>0.000012</td>\n",
       "      <td>0.011341</td>\n",
       "      <td>0.000000</td>\n",
       "      <td>0.039404</td>\n",
       "      <td>0.731757</td>\n",
       "    </tr>\n",
       "  </tbody>\n",
       "</table>\n",
       "</div>"
      ],
      "text/plain": [
       "         0         1         2         3    4         5         6         7   \\\n",
       "0  0.000972  0.694418  0.000024  0.000000  0.0  0.000012  0.000012 -0.000000   \n",
       "1  0.001275  0.624960  0.000000  0.000000  0.0  0.000022  0.000022  0.000000   \n",
       "2  0.000465  0.691109  0.000010  0.000010  0.0  0.000010  0.000010  0.000000   \n",
       "3  0.000466  0.699460  0.000000  0.000009  0.0  0.000000  0.000009  0.000000   \n",
       "4  0.000634  0.680330  0.000024  0.000012  0.0  0.000000  0.000012  0.011341   \n",
       "\n",
       "         8         9         10  \n",
       "0  0.000000  0.023743  0.719180  \n",
       "1  0.052415  0.094452  0.773146  \n",
       "2  0.000000  0.030493  0.722107  \n",
       "3  0.000000  0.014580  0.714523  \n",
       "4  0.000000  0.039404  0.731757  "
      ]
     },
     "execution_count": 184,
     "metadata": {},
     "output_type": "execute_result"
    }
   ],
   "source": [
    "# simulate data\n",
    "sim_df = simulate_data.sim_data(**simulate_data.sim_params)\n",
    "\n",
    "# drop categorical feature for now\n",
    "sim_df = sim_df.drop(\"Group\", axis=1)\n",
    "\n",
    "# normalize data\n",
    "nrml = Normalizer()\n",
    "sim_norm = nrml.fit_transform(sim_df)\n",
    "\n",
    "pd.DataFrame(sim_norm).head()"
   ]
  },
  {
   "cell_type": "code",
   "execution_count": 185,
   "metadata": {},
   "outputs": [],
   "source": [
    "# NNM parameters\n",
    "parameters = {\"eps_outer\": 1e-4,\n",
    "                  \"eps_inner\": 1e-4,\n",
    "                  \"beta\": .5,\n",
    "                  \"max_iter_outer\": 1000,\n",
    "                  \"max_iter_inner\": 1000}"
   ]
  },
  {
   "cell_type": "markdown",
   "metadata": {},
   "source": [
    "# Missing at Random"
   ]
  },
  {
   "cell_type": "markdown",
   "metadata": {},
   "source": [
    "### How do error rates vary by rate of missingness?"
   ]
  },
  {
   "cell_type": "code",
   "execution_count": 149,
   "metadata": {},
   "outputs": [],
   "source": [
    "results_lst = []\n",
    "\n",
    "for missingness_pct in np.arange(0, 1, .05):\n",
    "    sim_obs = remove_data.missing_at_random(sim_norm, perc_remove=missingness_pct, rand_seed=23)\n",
    "    \n",
    "    sim_recovered_svt = matrix_completion.svt(sim_obs, tau=5)\n",
    "    svt_error = la.norm(np.round(sim_norm, 4) - np.round(sim_recovered_svt, 4), ord='fro')\n",
    "    \n",
    "    sim_recovered_nnm = trunc_nnm.truncated_NNM(10, parameters, sim_obs)\n",
    "    nnm_error = la.norm(np.round(sim_norm, 4) - np.round(sim_recovered_nnm, 4), ord='fro')\n",
    "    \n",
    "    results_lst.append([missingness_pct, svt_error, nnm_error])"
   ]
  },
  {
   "cell_type": "code",
   "execution_count": 96,
   "metadata": {},
   "outputs": [
    {
     "data": {
      "image/png": "[encoded data removed]",
      "text/plain": [
       "<Figure size 432x288 with 1 Axes>"
      ]
     },
     "metadata": {
      "needs_background": "light"
     },
     "output_type": "display_data"
    }
   ],
   "source": [
    "results_df = pd.DataFrame(results_lst, columns=[\"missingness\", \"SVT\", \"NNM\"]).set_index(\"missingness\")\n",
    "errors.line_plot(results_df.index, results_df.SVT, results_df.NNM)"
   ]
  },
  {
   "cell_type": "markdown",
   "metadata": {},
   "source": [
    "NNM seems to be pretty stable across parameters, but SVT results can change depending on $\\tau$. SVT seems to converve with NNM results quite exactly when $\\tau$ is really small or really large."
   ]
  },
  {
   "cell_type": "markdown",
   "metadata": {},
   "source": [
    "##### Here we hold the error rate at 40% and change $\\tau$ for SVT"
   ]
  },
  {
   "cell_type": "code",
   "execution_count": 5,
   "metadata": {},
   "outputs": [],
   "source": [
    "tau_lst = []\n",
    "\n",
    "for tau in np.arange(0, 10, 1):\n",
    "    sim_obs = remove_data.missing_at_random(sim_norm, perc_remove=0.4, rand_seed=23)\n",
    "    \n",
    "    sim_recovered_svt = matrix_completion.svt(sim_obs, tau=tau)\n",
    "    svt_error = la.norm(np.round(sim_norm, 4) - np.round(sim_recovered_svt, 4), ord='fro')\n",
    "    \n",
    "    tau_lst.append([tau, svt_error])"
   ]
  },
  {
   "cell_type": "code",
   "execution_count": 6,
   "metadata": {},
   "outputs": [
    {
     "data": {
      "text/plain": [
       "<AxesSubplot:title={'center':'Error rate depending on tau'}, xlabel='tau'>"
      ]
     },
     "execution_count": 6,
     "metadata": {},
     "output_type": "execute_result"
    },
    {
     "data": {
      "image/png": "[encoded data removed]",
      "text/plain": [
       "<Figure size 432x288 with 1 Axes>"
      ]
     },
     "metadata": {
      "needs_background": "light"
     },
     "output_type": "display_data"
    }
   ],
   "source": [
    "tau_df = pd.DataFrame(tau_lst, columns=[\"tau\", \"error\"]).set_index(\"tau\")\n",
    "tau_df.plot(title=\"Error rate depending on tau\")"
   ]
  },
  {
   "cell_type": "markdown",
   "metadata": {},
   "source": [
    "SVT seems to want $\\tau$ to be somewhere midway between 0 and the rank of the original matrix. Should test on other data."
   ]
  },
  {
   "cell_type": "markdown",
   "metadata": {},
   "source": [
    "### How do error rates vary by rank of the matrix?"
   ]
  },
  {
   "cell_type": "markdown",
   "metadata": {},
   "source": [
    "### How do error rates vary by the type of missingness?"
   ]
  },
  {
   "cell_type": "code",
   "execution_count": 63,
   "metadata": {},
   "outputs": [],
   "source": [
    "# or make dataframe with columns: random, slightly conditional, very conditional\n",
    "# then the rows would be percent missingness"
   ]
  },
  {
   "cell_type": "code",
   "execution_count": 234,
   "metadata": {},
   "outputs": [],
   "source": [
    "# create conditionally missing data\n",
    "sim_norm_df = pd.DataFrame(sim_norm, columns=sim_df.columns)\n",
    "sim_conditional_missing = remove_data.missing_conditional_continuous(sim_norm_df, \"Income\", \"Age\", 60)\n",
    "sim_conditional_missing = remove_data.missing_conditional_continuous(sim_conditional_missing, \"Income\", \"Age\", 60)\n",
    "sim_conditional_missing = remove_data.missing_conditional_continuous(sim_conditional_missing, \"Income\", \"Age\", 60)\n",
    "# sim_conditional_missing = remove_data.missing_conditional_continuous(sim_conditional_missing, \"Continuous_HighLikelihood_0\", \"Income\", 5)\n",
    "sim_conditional_missing = remove_data.missing_conditional_continuous(sim_conditional_missing, \"Continuous_LowLikelihood_0\", \"Discrete_EvenLikelihood_0\", 100)"
   ]
  },
  {
   "cell_type": "code",
   "execution_count": 235,
   "metadata": {},
   "outputs": [
    {
     "data": {
      "text/plain": [
       "Age                             0\n",
       "Income                         66\n",
       "NChild                          0\n",
       "InCensus                        0\n",
       "Discrete_LowLikelihood_0        0\n",
       "Discrete_EvenLikelihood_0       0\n",
       "Discrete_HighLikelihood_0       0\n",
       "Continuous_LowLikelihood_0     35\n",
       "Continuous_EvenLikelihood_0     0\n",
       "Continuous_HighLikelihood_0     0\n",
       "PerfectClassifierOutcome        0\n",
       "dtype: int64"
      ]
     },
     "execution_count": 235,
     "metadata": {},
     "output_type": "execute_result"
    }
   ],
   "source": [
    "# view where the missingness is\n",
    "sim_conditional_missing.isnull().sum()"
   ]
  },
  {
   "cell_type": "code",
   "execution_count": 236,
   "metadata": {},
   "outputs": [
    {
     "data": {
      "text/plain": [
       "0.09181818181818181"
      ]
     },
     "execution_count": 236,
     "metadata": {},
     "output_type": "execute_result"
    }
   ],
   "source": [
    "percent_missing = sim_conditional_missing.isnull().sum().sum() / sim_conditional_missing.size\n",
    "percent_missing"
   ]
  },
  {
   "cell_type": "code",
   "execution_count": 237,
   "metadata": {},
   "outputs": [
    {
     "data": {
      "text/plain": [
       "0.09181818181818181"
      ]
     },
     "execution_count": 237,
     "metadata": {},
     "output_type": "execute_result"
    }
   ],
   "source": [
    "sim_random_missing = remove_data.missing_at_random(sim_norm, perc_remove=percent_missing, rand_seed=23)\n",
    "pd.DataFrame(sim_random_missing).isnull().sum().sum() / pd.DataFrame(sim_random_missing).size"
   ]
  },
  {
   "cell_type": "code",
   "execution_count": 238,
   "metadata": {},
   "outputs": [
    {
     "name": "stdout",
     "output_type": "stream",
     "text": [
      "0.1667114873066641 3.197247333254029\n"
     ]
    }
   ],
   "source": [
    "# random missing\n",
    "sim_recovered_random_svt = matrix_completion.svt(sim_random_missing, tau=5)\n",
    "svt_error = la.norm(np.round(sim_norm, 4) - np.round(sim_recovered_random_svt, 4), ord='fro')\n",
    "\n",
    "sim_recovered_random_nnm = trunc_nnm.truncated_NNM(10, parameters, sim_random_missing)\n",
    "nnm_error = la.norm(np.round(sim_norm, 4) - np.round(sim_recovered_random_nnm, 4), ord='fro')\n",
    "\n",
    "# results_lst.append([missingness_pct, svt_error, nnm_error])\n",
    "print(svt_error, nnm_error)"
   ]
  },
  {
   "cell_type": "markdown",
   "metadata": {},
   "source": [
    "For 10% random missingness, both errors are around 3.17"
   ]
  },
  {
   "cell_type": "code",
   "execution_count": 239,
   "metadata": {},
   "outputs": [
    {
     "name": "stdout",
     "output_type": "stream",
     "text": [
      "0.2792271834904331 5.547132886455849\n"
     ]
    }
   ],
   "source": [
    "# conditional missing\n",
    "sim_recovered_conditional_svt = matrix_completion.svt(sim_conditional_missing, tau=5)\n",
    "svt_error = la.norm(np.round(sim_norm, 4) - np.round(sim_recovered_conditional_svt, 4), ord='fro')\n",
    "\n",
    "sim_recovered_conditional_nnm = trunc_nnm.truncated_NNM(10, parameters, sim_conditional_missing)\n",
    "nnm_error = la.norm(np.round(sim_norm, 4) - np.round(sim_recovered_conditional_nnm, 4), ord='fro')\n",
    "\n",
    "print(svt_error, nnm_error)"
   ]
  },
  {
   "cell_type": "markdown",
   "metadata": {},
   "source": [
    "For 10% conditional missingness, both errors are much higher, around 5.7"
   ]
  },
  {
   "cell_type": "code",
   "execution_count": null,
   "metadata": {},
   "outputs": [],
   "source": []
  },
  {
   "cell_type": "code",
   "execution_count": null,
   "metadata": {},
   "outputs": [],
   "source": []
  }
 ],
 "metadata": {
  "kernelspec": {
   "display_name": "Python 3",
   "language": "python",
   "name": "python3"
  },
  "language_info": {
   "codemirror_mode": {
    "name": "ipython",
    "version": 3
   },
   "file_extension": ".py",
   "mimetype": "text/x-python",
   "name": "python",
   "nbconvert_exporter": "python",
   "pygments_lexer": "ipython3",
   "version": "3.8.8"
  }
 },
 "nbformat": 4,
 "nbformat_minor": 4
}
