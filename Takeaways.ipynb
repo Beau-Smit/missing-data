{
 "cells": [
  {
   "cell_type": "code",
   "execution_count": 11,
   "metadata": {},
   "outputs": [],
   "source": [
    "import simulate_data\n",
    "import remove_data\n",
    "import matrix_completion\n",
    "import trunc_nnm\n",
    "import errors\n",
    "\n",
    "from sklearn.preprocessing import normalize\n",
    "#from sklearn.preprocessing import Normalizer\n",
    "import numpy as np\n",
    "import numpy.linalg as la\n",
    "import pandas as pd"
   ]
  },
  {
   "cell_type": "code",
   "execution_count": 12,
   "metadata": {},
   "outputs": [
    {
     "data": {
      "text/html": [
       "<div>\n",
       "<style scoped>\n",
       "    .dataframe tbody tr th:only-of-type {\n",
       "        vertical-align: middle;\n",
       "    }\n",
       "\n",
       "    .dataframe tbody tr th {\n",
       "        vertical-align: top;\n",
       "    }\n",
       "\n",
       "    .dataframe thead th {\n",
       "        text-align: right;\n",
       "    }\n",
       "</style>\n",
       "<table border=\"1\" class=\"dataframe\">\n",
       "  <thead>\n",
       "    <tr style=\"text-align: right;\">\n",
       "      <th></th>\n",
       "      <th>0</th>\n",
       "      <th>1</th>\n",
       "      <th>2</th>\n",
       "      <th>3</th>\n",
       "      <th>4</th>\n",
       "      <th>5</th>\n",
       "      <th>6</th>\n",
       "      <th>7</th>\n",
       "      <th>8</th>\n",
       "      <th>9</th>\n",
       "      <th>10</th>\n",
       "    </tr>\n",
       "  </thead>\n",
       "  <tbody>\n",
       "    <tr>\n",
       "      <th>0</th>\n",
       "      <td>0.042122</td>\n",
       "      <td>0.115204</td>\n",
       "      <td>0.158114</td>\n",
       "      <td>0.000000</td>\n",
       "      <td>0.0</td>\n",
       "      <td>0.142857</td>\n",
       "      <td>0.103695</td>\n",
       "      <td>0.0</td>\n",
       "      <td>0.116177</td>\n",
       "      <td>0.000000</td>\n",
       "      <td>0.112615</td>\n",
       "    </tr>\n",
       "    <tr>\n",
       "      <th>1</th>\n",
       "      <td>0.090262</td>\n",
       "      <td>0.083474</td>\n",
       "      <td>0.000000</td>\n",
       "      <td>0.118678</td>\n",
       "      <td>0.0</td>\n",
       "      <td>0.000000</td>\n",
       "      <td>0.103695</td>\n",
       "      <td>0.0</td>\n",
       "      <td>0.000000</td>\n",
       "      <td>0.068365</td>\n",
       "      <td>0.081834</td>\n",
       "    </tr>\n",
       "    <tr>\n",
       "      <th>2</th>\n",
       "      <td>0.096280</td>\n",
       "      <td>0.084336</td>\n",
       "      <td>0.000000</td>\n",
       "      <td>0.118678</td>\n",
       "      <td>0.0</td>\n",
       "      <td>0.142857</td>\n",
       "      <td>0.103695</td>\n",
       "      <td>-0.0</td>\n",
       "      <td>0.000000</td>\n",
       "      <td>0.148740</td>\n",
       "      <td>0.085986</td>\n",
       "    </tr>\n",
       "    <tr>\n",
       "      <th>3</th>\n",
       "      <td>0.106811</td>\n",
       "      <td>0.072561</td>\n",
       "      <td>0.079057</td>\n",
       "      <td>0.118678</td>\n",
       "      <td>0.0</td>\n",
       "      <td>0.142857</td>\n",
       "      <td>0.103695</td>\n",
       "      <td>0.0</td>\n",
       "      <td>0.000000</td>\n",
       "      <td>0.063272</td>\n",
       "      <td>0.071333</td>\n",
       "    </tr>\n",
       "    <tr>\n",
       "      <th>4</th>\n",
       "      <td>0.102297</td>\n",
       "      <td>0.104772</td>\n",
       "      <td>0.079057</td>\n",
       "      <td>0.000000</td>\n",
       "      <td>0.0</td>\n",
       "      <td>0.000000</td>\n",
       "      <td>0.000000</td>\n",
       "      <td>0.0</td>\n",
       "      <td>0.000000</td>\n",
       "      <td>0.078976</td>\n",
       "      <td>0.102415</td>\n",
       "    </tr>\n",
       "  </tbody>\n",
       "</table>\n",
       "</div>"
      ],
      "text/plain": [
       "         0         1         2         3    4         5         6    7   \\\n",
       "0  0.042122  0.115204  0.158114  0.000000  0.0  0.142857  0.103695  0.0   \n",
       "1  0.090262  0.083474  0.000000  0.118678  0.0  0.000000  0.103695  0.0   \n",
       "2  0.096280  0.084336  0.000000  0.118678  0.0  0.142857  0.103695 -0.0   \n",
       "3  0.106811  0.072561  0.079057  0.118678  0.0  0.142857  0.103695  0.0   \n",
       "4  0.102297  0.104772  0.079057  0.000000  0.0  0.000000  0.000000  0.0   \n",
       "\n",
       "         8         9         10  \n",
       "0  0.116177  0.000000  0.112615  \n",
       "1  0.000000  0.068365  0.081834  \n",
       "2  0.000000  0.148740  0.085986  \n",
       "3  0.000000  0.063272  0.071333  \n",
       "4  0.000000  0.078976  0.102415  "
      ]
     },
     "execution_count": 12,
     "metadata": {},
     "output_type": "execute_result"
    }
   ],
   "source": [
    "# simulate data\n",
    "sim_df = simulate_data.sim_data(**simulate_data.sim_params)\n",
    "\n",
    "# drop categorical feature for now\n",
    "sim_df = sim_df.drop(\"Group\", axis=1)\n",
    "\n",
    "# Normalize data by feature (axis=0)\n",
    "# norms we could use for re-scaling later\n",
    "sim_norm, norms = normalize(sim_df, axis=0, return_norm=True)\n",
    "pd.DataFrame(sim_norm).head()"
   ]
  },
  {
   "cell_type": "code",
   "execution_count": 13,
   "metadata": {},
   "outputs": [],
   "source": [
    "# NNM parameters\n",
    "parameters = {\"eps_outer\": 1e-6,\n",
    "              \"eps_inner\": 1e-6,\n",
    "              \"beta\": 1,\n",
    "              \"max_iter_outer\": 1000,\n",
    "              \"max_iter_inner\": 1000}"
   ]
  },
  {
   "cell_type": "markdown",
   "metadata": {},
   "source": [
    "# Missing at Random"
   ]
  },
  {
   "cell_type": "markdown",
   "metadata": {},
   "source": [
    "### How do error rates vary by rate of missingness?"
   ]
  },
  {
   "cell_type": "code",
   "execution_count": 14,
   "metadata": {},
   "outputs": [],
   "source": [
    "results_lst = []\n",
    "\n",
    "for missingness_pct in np.arange(0, 1, .05):\n",
    "    sim_obs = remove_data.missing_at_random(sim_norm, perc_remove=missingness_pct, rand_seed=23)\n",
    "    \n",
    "    sim_recovered_svt = matrix_completion.svt(sim_obs, tau=5)\n",
    "    svt_error = la.norm(sim_norm - sim_recovered_svt, ord='fro')\n",
    "\n",
    "    rank = la.matrix_rank(sim_norm)\n",
    "    sim_recovered_nnm = trunc_nnm.truncated_NNM(rank, parameters, sim_obs)\n",
    "    nnm_error = la.norm(sim_norm - sim_recovered_nnm, ord='fro')\n",
    "    \n",
    "    results_lst.append([missingness_pct, svt_error, nnm_error])"
   ]
  },
  {
   "cell_type": "code",
   "execution_count": 15,
   "metadata": {},
   "outputs": [
    {
     "data": {
      "image/png": "[encoded data removed]",
      "text/plain": [
       "<Figure size 432x288 with 1 Axes>"
      ]
     },
     "metadata": {
      "needs_background": "light"
     },
     "output_type": "display_data"
    }
   ],
   "source": [
    "results_df = pd.DataFrame(results_lst, columns=[\"missingness\", \"SVT\", \"NNM\"]).set_index(\"missingness\")\n",
    "# TODO: Add legend\n",
    "errors.line_plot(results_df.index, results_df.SVT, results_df.NNM)"
   ]
  },
  {
   "cell_type": "markdown",
   "metadata": {},
   "source": [
    "NNM seems to be pretty stable across parameters, but SVT results can change depending on $\\tau$. SVT seems to converve with NNM results quite exactly when $\\tau$ is really small or really large."
   ]
  },
  {
   "cell_type": "markdown",
   "metadata": {},
   "source": [
    "##### Here we hold the error rate at 40% and change $\\tau$ for SVT"
   ]
  },
  {
   "cell_type": "code",
   "execution_count": 16,
   "metadata": {},
   "outputs": [],
   "source": [
    "tau_lst = []\n",
    "\n",
    "for tau in np.arange(0, 10, 1):\n",
    "    sim_obs = remove_data.missing_at_random(sim_norm, perc_remove=0.4, rand_seed=23)\n",
    "    \n",
    "    sim_recovered_svt = matrix_completion.svt(sim_obs, tau=tau)\n",
    "    svt_error = la.norm(np.round(sim_norm, 4) - np.round(sim_recovered_svt, 4), ord='fro')\n",
    "    \n",
    "    tau_lst.append([tau, svt_error])"
   ]
  },
  {
   "cell_type": "code",
   "execution_count": 17,
   "metadata": {},
   "outputs": [
    {
     "data": {
      "text/plain": [
       "<AxesSubplot:title={'center':'Error rate depending on tau'}, xlabel='tau'>"
      ]
     },
     "execution_count": 17,
     "metadata": {},
     "output_type": "execute_result"
    },
    {
     "data": {
      "image/png": "[encoded data removed]",
      "text/plain": [
       "<Figure size 432x288 with 1 Axes>"
      ]
     },
     "metadata": {
      "needs_background": "light"
     },
     "output_type": "display_data"
    }
   ],
   "source": [
    "tau_df = pd.DataFrame(tau_lst, columns=[\"tau\", \"error\"]).set_index(\"tau\")\n",
    "tau_df.plot(title=\"Error rate depending on tau\")"
   ]
  },
  {
   "cell_type": "markdown",
   "metadata": {},
   "source": [
    "SVT seems to want $\\tau$ to be somewhere midway between 0 and the rank of the original matrix. Should test on other data."
   ]
  },
  {
   "cell_type": "markdown",
   "metadata": {},
   "source": [
    "### How do error rates vary by rank of the matrix?"
   ]
  },
  {
   "cell_type": "code",
   "execution_count": 18,
   "metadata": {},
   "outputs": [],
   "source": [
    "# NNM parameters\n",
    "parameters = {\"eps_outer\": 1e-6,\n",
    "              \"eps_inner\": 1e-6,\n",
    "              \"beta\": 1,\n",
    "              \"max_iter_outer\": 1000,\n",
    "              \"max_iter_inner\": 1000}\n"
   ]
  },
  {
   "cell_type": "markdown",
   "metadata": {},
   "source": [
    "Here we vary rank for a synthetic dataset with 10% missing values"
   ]
  },
  {
   "cell_type": "code",
   "execution_count": 19,
   "metadata": {},
   "outputs": [],
   "source": [
    "results_lst = []\n",
    "n = 200\n",
    "p = 10\n",
    "\n",
    "for rank in range(p):\n",
    "\n",
    "    # Produce r-rank data\n",
    "    sim_norm = simulate_data.create_rank_r_matrix(rank, n, p)\n",
    "    # Set to only 10% missing\n",
    "    sim_obs = remove_data.missing_at_random(sim_norm, perc_remove=0.1, rand_seed=23)\n",
    "    \n",
    "    sim_recovered_svt = matrix_completion.svt(sim_obs, tau=5)\n",
    "    svt_error = la.norm(sim_norm - sim_recovered_svt, ord='fro')\n",
    "    \n",
    "    sim_recovered_nnm = trunc_nnm.truncated_NNM(rank, parameters, sim_obs)\n",
    "    nnm_error = la.norm(sim_norm - sim_recovered_nnm, ord='fro')\n",
    "    \n",
    "    results_lst.append([rank, svt_error, nnm_error])"
   ]
  },
  {
   "cell_type": "code",
   "execution_count": 20,
   "metadata": {},
   "outputs": [
    {
     "data": {
      "image/png": "[encoded data removed]",
      "text/plain": [
       "<Figure size 432x288 with 1 Axes>"
      ]
     },
     "metadata": {
      "needs_background": "light"
     },
     "output_type": "display_data"
    }
   ],
   "source": [
    "results_df = pd.DataFrame(results_lst, columns=[\"rank\", \"SVT\", \"NNM\"]).set_index(\"rank\")\n",
    "# TODO: Add legend and update axes\n",
    "errors.line_plot(results_df.index, results_df.SVT, results_df.NNM)"
   ]
  },
  {
   "cell_type": "markdown",
   "metadata": {},
   "source": [
    "The reconstruction error increases fairly linearly with rank."
   ]
  },
  {
   "cell_type": "markdown",
   "metadata": {},
   "source": [
    "### How do error rates vary by the type of missingness?"
   ]
  },
  {
   "cell_type": "code",
   "execution_count": 21,
   "metadata": {},
   "outputs": [],
   "source": [
    "# or make dataframe with columns: random, slightly conditional, very conditional\n",
    "# then the rows would be percent missingness"
   ]
  },
  {
   "cell_type": "code",
   "execution_count": 22,
   "metadata": {},
   "outputs": [
    {
     "ename": "ValueError",
     "evalue": "Shape of passed values is (200, 10), indices imply (200, 11)",
     "output_type": "error",
     "traceback": [
      "\u001b[0;31m---------------------------------------------------------------------------\u001b[0m",
      "\u001b[0;31mValueError\u001b[0m                                Traceback (most recent call last)",
      "\u001b[0;32m/tmp/ipykernel_1724/3228782626.py\u001b[0m in \u001b[0;36m<module>\u001b[0;34m\u001b[0m\n\u001b[1;32m      1\u001b[0m \u001b[0;31m# create conditionally missing data\u001b[0m\u001b[0;34m\u001b[0m\u001b[0;34m\u001b[0m\u001b[0m\n\u001b[0;32m----> 2\u001b[0;31m \u001b[0msim_norm_df\u001b[0m \u001b[0;34m=\u001b[0m \u001b[0mpd\u001b[0m\u001b[0;34m.\u001b[0m\u001b[0mDataFrame\u001b[0m\u001b[0;34m(\u001b[0m\u001b[0msim_norm\u001b[0m\u001b[0;34m,\u001b[0m \u001b[0mcolumns\u001b[0m\u001b[0;34m=\u001b[0m\u001b[0msim_df\u001b[0m\u001b[0;34m.\u001b[0m\u001b[0mcolumns\u001b[0m\u001b[0;34m)\u001b[0m\u001b[0;34m\u001b[0m\u001b[0;34m\u001b[0m\u001b[0m\n\u001b[0m\u001b[1;32m      3\u001b[0m \u001b[0msim_conditional_missing\u001b[0m \u001b[0;34m=\u001b[0m \u001b[0mremove_data\u001b[0m\u001b[0;34m.\u001b[0m\u001b[0mmissing_conditional_continuous\u001b[0m\u001b[0;34m(\u001b[0m\u001b[0msim_norm_df\u001b[0m\u001b[0;34m,\u001b[0m \u001b[0;34m\"Income\"\u001b[0m\u001b[0;34m,\u001b[0m \u001b[0;34m\"Age\"\u001b[0m\u001b[0;34m,\u001b[0m \u001b[0;36m60\u001b[0m\u001b[0;34m)\u001b[0m\u001b[0;34m\u001b[0m\u001b[0;34m\u001b[0m\u001b[0m\n\u001b[1;32m      4\u001b[0m \u001b[0msim_conditional_missing\u001b[0m \u001b[0;34m=\u001b[0m \u001b[0mremove_data\u001b[0m\u001b[0;34m.\u001b[0m\u001b[0mmissing_conditional_continuous\u001b[0m\u001b[0;34m(\u001b[0m\u001b[0msim_conditional_missing\u001b[0m\u001b[0;34m,\u001b[0m \u001b[0;34m\"Income\"\u001b[0m\u001b[0;34m,\u001b[0m \u001b[0;34m\"Age\"\u001b[0m\u001b[0;34m,\u001b[0m \u001b[0;36m60\u001b[0m\u001b[0;34m)\u001b[0m\u001b[0;34m\u001b[0m\u001b[0;34m\u001b[0m\u001b[0m\n\u001b[1;32m      5\u001b[0m \u001b[0msim_conditional_missing\u001b[0m \u001b[0;34m=\u001b[0m \u001b[0mremove_data\u001b[0m\u001b[0;34m.\u001b[0m\u001b[0mmissing_conditional_continuous\u001b[0m\u001b[0;34m(\u001b[0m\u001b[0msim_conditional_missing\u001b[0m\u001b[0;34m,\u001b[0m \u001b[0;34m\"Income\"\u001b[0m\u001b[0;34m,\u001b[0m \u001b[0;34m\"Age\"\u001b[0m\u001b[0;34m,\u001b[0m \u001b[0;36m60\u001b[0m\u001b[0;34m)\u001b[0m\u001b[0;34m\u001b[0m\u001b[0;34m\u001b[0m\u001b[0m\n",
      "\u001b[0;32m~/ml_proj/env/lib/python3.9/site-packages/pandas/core/frame.py\u001b[0m in \u001b[0;36m__init__\u001b[0;34m(self, data, index, columns, dtype, copy)\u001b[0m\n\u001b[1;32m    670\u001b[0m                 )\n\u001b[1;32m    671\u001b[0m             \u001b[0;32melse\u001b[0m\u001b[0;34m:\u001b[0m\u001b[0;34m\u001b[0m\u001b[0;34m\u001b[0m\u001b[0m\n\u001b[0;32m--> 672\u001b[0;31m                 mgr = ndarray_to_mgr(\n\u001b[0m\u001b[1;32m    673\u001b[0m                     \u001b[0mdata\u001b[0m\u001b[0;34m,\u001b[0m\u001b[0;34m\u001b[0m\u001b[0;34m\u001b[0m\u001b[0m\n\u001b[1;32m    674\u001b[0m                     \u001b[0mindex\u001b[0m\u001b[0;34m,\u001b[0m\u001b[0;34m\u001b[0m\u001b[0;34m\u001b[0m\u001b[0m\n",
      "\u001b[0;32m~/ml_proj/env/lib/python3.9/site-packages/pandas/core/internals/construction.py\u001b[0m in \u001b[0;36mndarray_to_mgr\u001b[0;34m(values, index, columns, dtype, copy, typ)\u001b[0m\n\u001b[1;32m    322\u001b[0m     )\n\u001b[1;32m    323\u001b[0m \u001b[0;34m\u001b[0m\u001b[0m\n\u001b[0;32m--> 324\u001b[0;31m     \u001b[0m_check_values_indices_shape_match\u001b[0m\u001b[0;34m(\u001b[0m\u001b[0mvalues\u001b[0m\u001b[0;34m,\u001b[0m \u001b[0mindex\u001b[0m\u001b[0;34m,\u001b[0m \u001b[0mcolumns\u001b[0m\u001b[0;34m)\u001b[0m\u001b[0;34m\u001b[0m\u001b[0;34m\u001b[0m\u001b[0m\n\u001b[0m\u001b[1;32m    325\u001b[0m \u001b[0;34m\u001b[0m\u001b[0m\n\u001b[1;32m    326\u001b[0m     \u001b[0;32mif\u001b[0m \u001b[0mtyp\u001b[0m \u001b[0;34m==\u001b[0m \u001b[0;34m\"array\"\u001b[0m\u001b[0;34m:\u001b[0m\u001b[0;34m\u001b[0m\u001b[0;34m\u001b[0m\u001b[0m\n",
      "\u001b[0;32m~/ml_proj/env/lib/python3.9/site-packages/pandas/core/internals/construction.py\u001b[0m in \u001b[0;36m_check_values_indices_shape_match\u001b[0;34m(values, index, columns)\u001b[0m\n\u001b[1;32m    391\u001b[0m         \u001b[0mpassed\u001b[0m \u001b[0;34m=\u001b[0m \u001b[0mvalues\u001b[0m\u001b[0;34m.\u001b[0m\u001b[0mshape\u001b[0m\u001b[0;34m\u001b[0m\u001b[0;34m\u001b[0m\u001b[0m\n\u001b[1;32m    392\u001b[0m         \u001b[0mimplied\u001b[0m \u001b[0;34m=\u001b[0m \u001b[0;34m(\u001b[0m\u001b[0mlen\u001b[0m\u001b[0;34m(\u001b[0m\u001b[0mindex\u001b[0m\u001b[0;34m)\u001b[0m\u001b[0;34m,\u001b[0m \u001b[0mlen\u001b[0m\u001b[0;34m(\u001b[0m\u001b[0mcolumns\u001b[0m\u001b[0;34m)\u001b[0m\u001b[0;34m)\u001b[0m\u001b[0;34m\u001b[0m\u001b[0;34m\u001b[0m\u001b[0m\n\u001b[0;32m--> 393\u001b[0;31m         \u001b[0;32mraise\u001b[0m \u001b[0mValueError\u001b[0m\u001b[0;34m(\u001b[0m\u001b[0;34mf\"Shape of passed values is {passed}, indices imply {implied}\"\u001b[0m\u001b[0;34m)\u001b[0m\u001b[0;34m\u001b[0m\u001b[0;34m\u001b[0m\u001b[0m\n\u001b[0m\u001b[1;32m    394\u001b[0m \u001b[0;34m\u001b[0m\u001b[0m\n\u001b[1;32m    395\u001b[0m \u001b[0;34m\u001b[0m\u001b[0m\n",
      "\u001b[0;31mValueError\u001b[0m: Shape of passed values is (200, 10), indices imply (200, 11)"
     ]
    }
   ],
   "source": [
    "# create conditionally missing data\n",
    "sim_norm_df = pd.DataFrame(sim_norm, columns=sim_df.columns)\n",
    "sim_conditional_missing = remove_data.missing_conditional_continuous(sim_norm_df, \"Income\", \"Age\", 60)\n",
    "sim_conditional_missing = remove_data.missing_conditional_continuous(sim_conditional_missing, \"Income\", \"Age\", 60)\n",
    "sim_conditional_missing = remove_data.missing_conditional_continuous(sim_conditional_missing, \"Income\", \"Age\", 60)\n",
    "# sim_conditional_missing = remove_data.missing_conditional_continuous(sim_conditional_missing, \"Continuous_HighLikelihood_0\", \"Income\", 5)\n",
    "sim_conditional_missing = remove_data.missing_conditional_continuous(sim_conditional_missing, \"Continuous_LowLikelihood_0\", \"Discrete_EvenLikelihood_0\", 100)"
   ]
  },
  {
   "cell_type": "code",
   "execution_count": null,
   "metadata": {},
   "outputs": [
    {
     "data": {
      "text/plain": [
       "Age                             0\n",
       "Income                         66\n",
       "NChild                          0\n",
       "InCensus                        0\n",
       "Discrete_LowLikelihood_0        0\n",
       "Discrete_EvenLikelihood_0       0\n",
       "Discrete_HighLikelihood_0       0\n",
       "Continuous_LowLikelihood_0     35\n",
       "Continuous_EvenLikelihood_0     0\n",
       "Continuous_HighLikelihood_0     0\n",
       "PerfectClassifierOutcome        0\n",
       "dtype: int64"
      ]
     },
     "execution_count": 235,
     "metadata": {},
     "output_type": "execute_result"
    }
   ],
   "source": [
    "# view where the missingness is\n",
    "sim_conditional_missing.isnull().sum()"
   ]
  },
  {
   "cell_type": "code",
   "execution_count": null,
   "metadata": {},
   "outputs": [
    {
     "data": {
      "text/plain": [
       "0.09181818181818181"
      ]
     },
     "execution_count": 236,
     "metadata": {},
     "output_type": "execute_result"
    }
   ],
   "source": [
    "percent_missing = sim_conditional_missing.isnull().sum().sum() / sim_conditional_missing.size\n",
    "percent_missing"
   ]
  },
  {
   "cell_type": "code",
   "execution_count": null,
   "metadata": {},
   "outputs": [
    {
     "data": {
      "text/plain": [
       "0.09181818181818181"
      ]
     },
     "execution_count": 237,
     "metadata": {},
     "output_type": "execute_result"
    }
   ],
   "source": [
    "sim_random_missing = remove_data.missing_at_random(sim_norm, perc_remove=percent_missing, rand_seed=23)\n",
    "pd.DataFrame(sim_random_missing).isnull().sum().sum() / pd.DataFrame(sim_random_missing).size"
   ]
  },
  {
   "cell_type": "code",
   "execution_count": null,
   "metadata": {},
   "outputs": [
    {
     "name": "stdout",
     "output_type": "stream",
     "text": [
      "0.1667114873066641 3.197247333254029\n"
     ]
    }
   ],
   "source": [
    "# random missing\n",
    "sim_recovered_random_svt = matrix_completion.svt(sim_random_missing, tau=5)\n",
    "svt_error = la.norm(np.round(sim_norm, 4) - np.round(sim_recovered_random_svt, 4), ord='fro')\n",
    "\n",
    "sim_recovered_random_nnm = trunc_nnm.truncated_NNM(10, parameters, sim_random_missing)\n",
    "nnm_error = la.norm(np.round(sim_norm, 4) - np.round(sim_recovered_random_nnm, 4), ord='fro')\n",
    "\n",
    "# results_lst.append([missingness_pct, svt_error, nnm_error])\n",
    "print(svt_error, nnm_error)"
   ]
  },
  {
   "cell_type": "markdown",
   "metadata": {},
   "source": [
    "For 10% random missingness, both errors are around 3.17"
   ]
  },
  {
   "cell_type": "code",
   "execution_count": null,
   "metadata": {},
   "outputs": [
    {
     "name": "stdout",
     "output_type": "stream",
     "text": [
      "0.2792271834904331 5.547132886455849\n"
     ]
    }
   ],
   "source": [
    "# conditional missing\n",
    "sim_recovered_conditional_svt = matrix_completion.svt(sim_conditional_missing, tau=5)\n",
    "svt_error = la.norm(np.round(sim_norm, 4) - np.round(sim_recovered_conditional_svt, 4), ord='fro')\n",
    "\n",
    "sim_recovered_conditional_nnm = trunc_nnm.truncated_NNM(10, parameters, sim_conditional_missing)\n",
    "nnm_error = la.norm(np.round(sim_norm, 4) - np.round(sim_recovered_conditional_nnm, 4), ord='fro')\n",
    "\n",
    "print(svt_error, nnm_error)"
   ]
  },
  {
   "cell_type": "markdown",
   "metadata": {},
   "source": [
    "For 10% conditional missingness, both errors are much higher, around 5.7"
   ]
  },
  {
   "cell_type": "code",
   "execution_count": null,
   "metadata": {},
   "outputs": [],
   "source": []
  },
  {
   "cell_type": "code",
   "execution_count": null,
   "metadata": {},
   "outputs": [],
   "source": []
  }
 ],
 "metadata": {
  "interpreter": {
   "hash": "c6ab49f5d33c3ce7301436240baf1d68fecd837c84762ac5739e8937c0d65714"
  },
  "kernelspec": {
   "display_name": "ml_proj_env",
   "language": "python",
   "name": "python3"
  },
  "language_info": {
   "codemirror_mode": {
    "name": "ipython",
    "version": 3
   },
   "file_extension": ".py",
   "mimetype": "text/x-python",
   "name": "python",
   "nbconvert_exporter": "python",
   "pygments_lexer": "ipython3",
   "version": "3.9.7"
  }
 },
 "nbformat": 4,
 "nbformat_minor": 4
}
