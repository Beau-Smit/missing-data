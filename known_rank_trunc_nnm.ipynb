{
 "cells": [
  {
   "cell_type": "code",
   "execution_count": 1,
   "metadata": {},
   "outputs": [],
   "source": [
    "import numpy as np\n",
    "import numpy.linalg as la"
   ]
  },
  {
   "cell_type": "markdown",
   "metadata": {},
   "source": [
    "### Generate random rank-2 matrix"
   ]
  },
  {
   "cell_type": "code",
   "execution_count": 2,
   "metadata": {},
   "outputs": [
    {
     "name": "stdout",
     "output_type": "stream",
     "text": [
      "X = \n",
      " [[12. 15. 15. 12.  8. 13.  5. 14. 10. 12. 12.  9.  7. 16.  4.  5.  0. 14.]\n",
      " [17. 22. 21. 17. 12. 19.  9. 22. 19. 15. 19. 14. 12. 25.  4.  5.  0. 22.]\n",
      " [22. 29. 27. 22. 16. 25. 13. 30. 28. 18. 26. 19. 17. 34.  4.  5.  0. 30.]\n",
      " [27. 36. 33. 27. 20. 31. 17. 38. 37. 21. 33. 24. 22. 43.  4.  5.  0. 38.]\n",
      " [32. 43. 39. 32. 24. 37. 21. 46. 46. 24. 40. 29. 27. 52.  4.  5.  0. 46.]\n",
      " [37. 50. 45. 37. 28. 43. 25. 54. 55. 27. 47. 34. 32. 61.  4.  5.  0. 54.]\n",
      " [42. 57. 51. 42. 32. 49. 29. 62. 64. 30. 54. 39. 37. 70.  4.  5.  0. 62.]\n",
      " [47. 64. 57. 47. 36. 55. 33. 70. 73. 33. 61. 44. 42. 79.  4.  5.  0. 70.]\n",
      " [52. 71. 63. 52. 40. 61. 37. 78. 82. 36. 68. 49. 47. 88.  4.  5.  0. 78.]\n",
      " [57. 78. 69. 57. 44. 67. 41. 86. 91. 39. 75. 54. 52. 97.  4.  5.  0. 86.]]\n",
      "Shape of X (10, 18)\n",
      "Rank X = 2\n"
     ]
    }
   ],
   "source": [
    "A = np.array ([[1, 2, 3, 4, 5, 6, 7, 8, 9, 10],\n",
    "               [1, 1, 1, 1, 1, 1, 1, 1, 1, 1]]).T\n",
    "\n",
    "np.random.seed(0)\n",
    "B = np.floor(np.random.rand (2, 18) * 10) \n",
    "X = A @ B \n",
    "print(f'X = \\n {X}')\n",
    "print(\"Shape of X\", X.shape)\n",
    "print(f'Rank X = {la.matrix_rank(X)}') "
   ]
  },
  {
   "cell_type": "markdown",
   "metadata": {},
   "source": [
    "### Add missing values"
   ]
  },
  {
   "cell_type": "code",
   "execution_count": 3,
   "metadata": {},
   "outputs": [
    {
     "name": "stdout",
     "output_type": "stream",
     "text": [
      "Observed X = \n",
      " [[12. 15. 15. 12.  8. 13.  5. 14.  0. 12. 12.  9.  7.  0.  4.  5.  0. 14.]\n",
      " [17. 22.  0. 17. 12. 19.  9. 22. 19.  0. 19. 14. 12. 25.  4.  5.  0. 22.]\n",
      " [22. 29.  0. 22. 16. 25. 13. 30. 28. 18. 26. 19. 17. 34.  4.  5.  0. 30.]\n",
      " [27. 36. 33. 27. 20. 31. 17. 38. 37. 21. 33. 24. 22. 43.  4.  5.  0. 38.]\n",
      " [ 0. 43. 39. 32. 24. 37. 21. 46. 46. 24. 40. 29. 27. 52.  4.  5.  0.  0.]\n",
      " [37. 50. 45. 37. 28. 43. 25. 54. 55. 27. 47. 34. 32.  0.  4.  5.  0. 54.]\n",
      " [42.  0. 51. 42. 32. 49. 29. 62. 64. 30. 54. 39. 37. 70.  0.  5.  0. 62.]\n",
      " [47. 64. 57. 47. 36. 55. 33. 70. 73. 33. 61. 44. 42. 79.  4.  5.  0. 70.]\n",
      " [52. 71. 63.  0. 40.  0. 37. 78. 82. 36. 68. 49. 47. 88.  4.  5.  0. 78.]\n",
      " [57. 78.  0. 57. 44. 67. 41. 86. 91. 39. 75. 54. 52. 97.  4.  0.  0. 86.]]\n"
     ]
    }
   ],
   "source": [
    "fractionObserved = .9 \n",
    "np.random.seed(0)\n",
    "Omega = np.array(np.random.rand(X.shape [0],X.shape [1]) < fractionObserved)\n",
    "Xobs = Omega * X\n",
    "# Where matrix = 0: we are missing\n",
    "print(f'Observed X = \\n {Xobs}')"
   ]
  },
  {
   "cell_type": "markdown",
   "metadata": {},
   "source": [
    "## Execute Truncated NNM algorithm"
   ]
  },
  {
   "cell_type": "code",
   "execution_count": 4,
   "metadata": {},
   "outputs": [],
   "source": [
    "def shrinkage(X, tau):\n",
    "    '''\n",
    "    Return shrinkage D matrix from truncated NNM \n",
    "    '''\n",
    "    U, S, V_T = la.svd(X, full_matrices=False)\n",
    "    # shrink S\n",
    "    S_star = np.where(S - tau < 0, 0, S - tau)\n",
    "    S_hat = np.diag(S_star)\n",
    "    return U @ S_hat @ V_T\n"
   ]
  },
  {
   "cell_type": "code",
   "execution_count": 5,
   "metadata": {},
   "outputs": [],
   "source": [
    "def ADMM(A:np.array, B:np.array, X:np.array, params:dict) -> np.array:\n",
    "    beta = params[\"beta\"]\n",
    "    # Initialize all variables as X\n",
    "    X_k, W_k, Y_k = X, X, X\n",
    "\n",
    "    for _ in range(params[\"max_iter_inner\"]):\n",
    "        # Update X\n",
    "        X_k_1 = shrinkage(W_k - ((1/beta) * Y_k), tau=(1/beta))\n",
    "\n",
    "        # update W\n",
    "        W_k_1 = X_k_1 + (1/beta) * (A.T@B + Y_k)\n",
    "        W_k_1 = (1 - Omega) * W_k_1 + Xobs \n",
    "\n",
    "        # update Y\n",
    "        Y_k_1 = Y_k + beta * (X_k_1 - W_k_1)\n",
    "\n",
    "        if la.norm(X_k_1 - X_k, ord='fro') < params[\"eps_inner\"]:\n",
    "            break\n",
    "\n",
    "        # Update X, Y, W for next iteration\n",
    "        X_k, Y_k, W_k = X_k_1, Y_k_1, W_k_1\n",
    "\n",
    "    return X_k_1"
   ]
  },
  {
   "cell_type": "code",
   "execution_count": 6,
   "metadata": {},
   "outputs": [],
   "source": [
    "# Truncated NNM\n",
    "def truncated_NNM(rank:int, params:dict, orig_X:np.array) -> np.array:\n",
    "\n",
    "    for _ in range(params[\"max_iter_outer\"]):\n",
    "        \n",
    "        # Take SVD of X_observed\n",
    "        U, S, V_T = la.svd(orig_X , full_matrices=True)\n",
    "        V = V_T.T\n",
    "        # Get truncated U and V as A and B\n",
    "        A = U[:, :rank].T\n",
    "        B = V[:, :rank].T\n",
    "\n",
    "        # Perform ADMM minimization\n",
    "        new_X = ADMM(A, B, orig_X, params)\n",
    "\n",
    "        if la.norm(new_X - orig_X, ord='fro') < params[\"eps_outer\"]:\n",
    "            break\n",
    "        \n",
    "        # Else, update X\n",
    "        orig_X = new_X\n",
    "    np.set_printoptions(suppress=True, precision=2)\n",
    "    print(f\"FINAL X = \\n {new_X}\")\n",
    "    return new_X"
   ]
  },
  {
   "cell_type": "markdown",
   "metadata": {},
   "source": [
    "### Test algorithm"
   ]
  },
  {
   "cell_type": "code",
   "execution_count": 7,
   "metadata": {},
   "outputs": [
    {
     "name": "stdout",
     "output_type": "stream",
     "text": [
      "FINAL X = \n",
      " [[12. 15. 15. 12.  8. 13.  5. 14. 10. 12. 12.  9.  7. 16.  4.  5.  0. 14.]\n",
      " [17. 22. 21. 17. 12. 19.  9. 22. 19. 15. 19. 14. 12. 25.  4.  5.  0. 22.]\n",
      " [22. 29. 27. 22. 16. 25. 13. 30. 28. 18. 26. 19. 17. 34.  4.  5.  0. 30.]\n",
      " [27. 36. 33. 27. 20. 31. 17. 38. 37. 21. 33. 24. 22. 43.  4.  5.  0. 38.]\n",
      " [32. 43. 39. 32. 24. 37. 21. 46. 46. 24. 40. 29. 27. 52.  4.  5.  0. 46.]\n",
      " [37. 50. 45. 37. 28. 43. 25. 54. 55. 27. 47. 34. 32. 61.  4.  5.  0. 54.]\n",
      " [42. 57. 51. 42. 32. 49. 29. 62. 64. 30. 54. 39. 37. 70.  4.  5.  0. 62.]\n",
      " [47. 64. 57. 47. 36. 55. 33. 70. 73. 33. 61. 44. 42. 79.  4.  5.  0. 70.]\n",
      " [52. 71. 63. 52. 40. 61. 37. 78. 82. 36. 68. 49. 47. 88.  4.  5.  0. 78.]\n",
      " [57. 78. 69. 57. 44. 67. 41. 86. 91. 39. 75. 54. 52. 97.  4.  5.  0. 86.]]\n"
     ]
    }
   ],
   "source": [
    "parameters = {\"eps_outer\": .001,\n",
    "              \"eps_inner\": .001,\n",
    "              \"beta\": 1,\n",
    "              \"max_iter_outer\": 1000,\n",
    "              \"max_iter_inner\": 1000}\n",
    "\n",
    "new_X = truncated_NNM(rank=2, \n",
    "                      params=parameters, \n",
    "                      orig_X=Xobs)"
   ]
  }
 ],
 "metadata": {
  "interpreter": {
   "hash": "c6ab49f5d33c3ce7301436240baf1d68fecd837c84762ac5739e8937c0d65714"
  },
  "kernelspec": {
   "display_name": "Python 3.9.7 64-bit ('env': venv)",
   "language": "python",
   "name": "python3"
  },
  "language_info": {
   "codemirror_mode": {
    "name": "ipython",
    "version": 3
   },
   "file_extension": ".py",
   "mimetype": "text/x-python",
   "name": "python",
   "nbconvert_exporter": "python",
   "pygments_lexer": "ipython3",
   "version": "3.9.7"
  },
  "orig_nbformat": 4
 },
 "nbformat": 4,
 "nbformat_minor": 2
}
