{
 "cells": [
  {
   "cell_type": "code",
   "execution_count": 1,
   "metadata": {},
   "outputs": [],
   "source": [
    "import numpy as np\n",
    "import numpy.linalg as la"
   ]
  },
  {
   "cell_type": "markdown",
   "metadata": {},
   "source": [
    "### Generate random rank-2 matrix"
   ]
  },
  {
   "cell_type": "code",
   "execution_count": 2,
   "metadata": {},
   "outputs": [
    {
     "name": "stdout",
     "output_type": "stream",
     "text": [
      "X = \n",
      " [[12. 15. 15. 12.  8. 13.  5. 14. 10. 12. 12.  9.  7. 16.  4.  5.  0. 14.]\n",
      " [17. 22. 21. 17. 12. 19.  9. 22. 19. 15. 19. 14. 12. 25.  4.  5.  0. 22.]\n",
      " [22. 29. 27. 22. 16. 25. 13. 30. 28. 18. 26. 19. 17. 34.  4.  5.  0. 30.]\n",
      " [27. 36. 33. 27. 20. 31. 17. 38. 37. 21. 33. 24. 22. 43.  4.  5.  0. 38.]\n",
      " [32. 43. 39. 32. 24. 37. 21. 46. 46. 24. 40. 29. 27. 52.  4.  5.  0. 46.]\n",
      " [37. 50. 45. 37. 28. 43. 25. 54. 55. 27. 47. 34. 32. 61.  4.  5.  0. 54.]\n",
      " [42. 57. 51. 42. 32. 49. 29. 62. 64. 30. 54. 39. 37. 70.  4.  5.  0. 62.]\n",
      " [47. 64. 57. 47. 36. 55. 33. 70. 73. 33. 61. 44. 42. 79.  4.  5.  0. 70.]\n",
      " [52. 71. 63. 52. 40. 61. 37. 78. 82. 36. 68. 49. 47. 88.  4.  5.  0. 78.]\n",
      " [57. 78. 69. 57. 44. 67. 41. 86. 91. 39. 75. 54. 52. 97.  4.  5.  0. 86.]]\n",
      "Shape of X (10, 18)\n",
      "Rank X = 2\n",
      "S = \n",
      " [5.40630990e+02 1.74106925e+01 5.63028215e-14 1.11208018e-14\n",
      " 7.19655392e-15 5.05664240e-15 3.25453003e-15 2.47025737e-15\n",
      " 7.07921719e-16 3.19489295e-16]\n"
     ]
    }
   ],
   "source": [
    "A = np.array ([[1, 2, 3, 4, 5, 6, 7, 8, 9, 10],\n",
    "               [1, 1, 1, 1, 1, 1, 1, 1, 1, 1]]).T\n",
    "\n",
    "np.random.seed(0)\n",
    "B = np.floor(np.random.rand (2, 18) * 10) \n",
    "X = A @ B \n",
    "print(f'X = \\n {X}')\n",
    "print(\"Shape of X\", X.shape)\n",
    "n, m = X.shape\n",
    "print(f'Rank X = {la.matrix_rank(X)}') \n",
    "U, S, V_T = la.svd(X , full_matrices=False)\n",
    "print(f'S = \\n {S}')"
   ]
  },
  {
   "cell_type": "code",
   "execution_count": 3,
   "metadata": {},
   "outputs": [
    {
     "name": "stdout",
     "output_type": "stream",
     "text": [
      "Observed X = \n",
      " [[12. 15. 15. 12.  8. 13.  5. 14.  0. 12. 12.  9.  7.  0.  4.  5.  0. 14.]\n",
      " [17. 22.  0. 17. 12. 19.  9. 22. 19.  0. 19. 14. 12. 25.  4.  5.  0. 22.]\n",
      " [22. 29.  0. 22. 16. 25. 13. 30. 28. 18. 26. 19. 17. 34.  4.  5.  0. 30.]\n",
      " [27. 36. 33. 27. 20. 31. 17. 38. 37. 21. 33. 24. 22. 43.  4.  5.  0. 38.]\n",
      " [ 0. 43. 39. 32. 24. 37. 21. 46. 46. 24. 40. 29. 27. 52.  4.  5.  0.  0.]\n",
      " [37. 50. 45. 37. 28. 43. 25. 54. 55. 27. 47. 34. 32.  0.  4.  5.  0. 54.]\n",
      " [42.  0. 51. 42. 32. 49. 29. 62. 64. 30. 54. 39. 37. 70.  0.  5.  0. 62.]\n",
      " [47. 64. 57. 47. 36. 55. 33. 70. 73. 33. 61. 44. 42. 79.  4.  5.  0. 70.]\n",
      " [52. 71. 63.  0. 40.  0. 37. 78. 82. 36. 68. 49. 47. 88.  4.  5.  0. 78.]\n",
      " [57. 78.  0. 57. 44. 67. 41. 86. 91. 39. 75. 54. 52. 97.  4.  0.  0. 86.]]\n"
     ]
    }
   ],
   "source": [
    "fractionObserved = .9 \n",
    "np.random.seed(0)\n",
    "Omega = np.array(np.random.rand(X.shape [0],X.shape [1]) < fractionObserved)\n",
    "Xobs = Omega * X\n",
    "# Where matrix = 0: we are missing\n",
    "print(f'Observed X = \\n {Xobs}')"
   ]
  },
  {
   "cell_type": "code",
   "execution_count": 4,
   "metadata": {},
   "outputs": [
    {
     "data": {
      "text/plain": [
       "array([[ True,  True,  True,  True,  True,  True,  True,  True, False,\n",
       "         True,  True,  True,  True, False,  True,  True,  True,  True],\n",
       "       [ True,  True, False,  True,  True,  True,  True,  True,  True,\n",
       "        False,  True,  True,  True,  True,  True,  True,  True,  True],\n",
       "       [ True,  True, False,  True,  True,  True,  True,  True,  True,\n",
       "         True,  True,  True,  True,  True,  True,  True, False,  True],\n",
       "       [ True,  True,  True,  True,  True,  True,  True,  True,  True,\n",
       "         True,  True,  True,  True,  True,  True,  True, False,  True],\n",
       "       [False,  True,  True,  True,  True,  True,  True,  True,  True,\n",
       "         True,  True,  True,  True,  True,  True,  True,  True, False],\n",
       "       [ True,  True,  True,  True,  True,  True,  True,  True,  True,\n",
       "         True,  True,  True,  True, False,  True,  True,  True,  True],\n",
       "       [ True, False,  True,  True,  True,  True,  True,  True,  True,\n",
       "         True,  True,  True,  True,  True, False,  True,  True,  True],\n",
       "       [ True,  True,  True,  True,  True,  True,  True,  True,  True,\n",
       "         True,  True,  True,  True,  True,  True,  True,  True,  True],\n",
       "       [ True,  True,  True, False,  True, False,  True,  True,  True,\n",
       "         True,  True,  True,  True,  True,  True,  True,  True,  True],\n",
       "       [ True,  True, False,  True,  True,  True,  True,  True,  True,\n",
       "         True,  True,  True,  True,  True,  True, False,  True,  True]])"
      ]
     },
     "execution_count": 4,
     "metadata": {},
     "output_type": "execute_result"
    }
   ],
   "source": [
    "Omega"
   ]
  },
  {
   "cell_type": "code",
   "execution_count": 45,
   "metadata": {},
   "outputs": [
    {
     "data": {
      "text/plain": [
       "array([[11.87, 14.89, 14.81, 11.87,  7.96, 12.9 ,  5.1 , 14.02, 10.27,\n",
       "        11.71, 12.02,  9.  ,  7.09, 16.01,  3.82,  4.78,  0.  , 14.02],\n",
       "       [16.88, 21.89, 20.83, 16.88, 11.96, 18.9 ,  9.07, 21.99, 19.2 ,\n",
       "        14.75, 19.  , 13.99, 12.06, 24.98,  3.85,  4.82,  0.  , 21.99],\n",
       "       [21.89, 28.89, 26.85, 21.89, 15.96, 24.91, 13.04, 29.97, 28.14,\n",
       "        17.79, 25.98, 18.98, 17.03, 33.96,  3.88,  4.85,  0.  , 29.97],\n",
       "       [26.9 , 35.9 , 32.86, 26.9 , 19.95, 30.91, 17.02, 37.95, 37.07,\n",
       "        20.83, 32.96, 23.96, 22.01, 42.94,  3.91,  4.89,  0.  , 37.95],\n",
       "       [31.91, 42.9 , 38.88, 31.91, 23.95, 36.91, 20.99, 45.93, 46.  ,\n",
       "        23.87, 39.94, 28.95, 26.98, 51.92,  3.94,  4.93,  0.  , 45.93],\n",
       "       [36.92, 49.9 , 44.9 , 36.92, 27.95, 42.91, 24.97, 53.91, 54.94,\n",
       "        26.91, 46.92, 33.94, 31.95, 60.89,  3.97,  4.96,  0.  , 53.91],\n",
       "       [41.93, 56.9 , 50.91, 41.93, 31.94, 48.91, 28.94, 61.88, 63.87,\n",
       "        29.95, 53.9 , 38.93, 36.93, 69.87,  4.  ,  5.  ,  0.  , 61.88],\n",
       "       [46.94, 63.9 , 56.93, 46.94, 35.94, 54.91, 32.92, 69.86, 72.8 ,\n",
       "        32.99, 60.88, 43.92, 41.9 , 78.85,  4.03,  5.03,  0.  , 69.86],\n",
       "       [51.95, 70.9 , 62.94, 51.95, 39.93, 60.92, 36.89, 77.84, 81.74,\n",
       "        36.04, 67.86, 48.9 , 46.88, 87.82,  4.06,  5.07,  0.  , 77.84],\n",
       "       [56.96, 77.9 , 68.96, 56.96, 43.93, 66.92, 40.87, 85.82, 90.67,\n",
       "        39.08, 74.84, 53.89, 51.85, 96.8 ,  4.09,  5.11,  0.  , 85.82]])"
      ]
     },
     "execution_count": 45,
     "metadata": {},
     "output_type": "execute_result"
    }
   ],
   "source": [
    "\n",
    "def shrinkage(X, tau):\n",
    "    '''\n",
    "    Return matrix using only singular values greater than tau\n",
    "    '''\n",
    "    U, S, V_T = la.svd(X, full_matrices=False)\n",
    "    # shrink S\n",
    "    S_star = np.where(S - tau < 0, 0, S - tau)\n",
    "    S_hat = np.diag(S_star)\n",
    "    return U @ S_hat @ V_T\n",
    "\n",
    "X_star = shrinkage(X, tau=1)\n",
    "X_star\n"
   ]
  },
  {
   "cell_type": "code",
   "execution_count": 46,
   "metadata": {},
   "outputs": [],
   "source": [
    "def ADMM(A_l, B_l, X, epsilon, beta, max_iter_inner):\n",
    "    # Initialize Alg. 2\n",
    "    X_k = X\n",
    "    W_k = X_k\n",
    "    Y_k = X_k\n",
    "\n",
    "    for k in range(max_iter_inner):\n",
    "        #beta += 1\n",
    "        X_k_1 = shrinkage(W_k - ((1/beta) * Y_k), tau=(1/beta))\n",
    "\n",
    "        W_k_1 = X_k_1 + (1/beta) * (A_l.T@B_l + Y_k)\n",
    "\n",
    "        W_k_1 = (1 - Omega) * W_k_1 + Xobs \n",
    "\n",
    "        Y_k_1 = Y_k + beta * (X_k_1 - W_k_1)\n",
    "\n",
    "        FN_inner = la.norm(X_k_1 - X_k, ord='fro')\n",
    "        if FN_inner < epsilon:\n",
    "            print(\"BROKE\")\n",
    "            break\n",
    "\n",
    "        # Update X, Y, W for next iteration\n",
    "        X_k, Y_k, W_k = X_k_1, Y_k_1, W_k_1\n",
    "\n",
    "    print(\"Final FN_inner\", FN_inner)\n",
    "    return X_k_1"
   ]
  },
  {
   "cell_type": "code",
   "execution_count": 50,
   "metadata": {},
   "outputs": [
    {
     "name": "stdout",
     "output_type": "stream",
     "text": [
      "BROKE\n",
      "Final FN_inner 0.0009924409281092219\n",
      "FN_outer 151.94716025843158\n",
      "BROKE\n",
      "Final FN_inner 0.0006102164863315866\n",
      "FN_outer 0.002393662878553796\n",
      "BROKE\n",
      "Final FN_inner 0.0006113540237218804\n",
      "FN_outer 6.609045336299033e-06\n",
      "FINAL X = \n",
      " [[12. 15. 15. 12.  8. 13.  5. 14. 10. 12. 12.  9.  7. 16.  4.  5.  0. 14.]\n",
      " [17. 22. 21. 17. 12. 19.  9. 22. 19. 15. 19. 14. 12. 25.  4.  5.  0. 22.]\n",
      " [22. 29. 27. 22. 16. 25. 13. 30. 28. 18. 26. 19. 17. 34.  4.  5.  0. 30.]\n",
      " [27. 36. 33. 27. 20. 31. 17. 38. 37. 21. 33. 24. 22. 43.  4.  5.  0. 38.]\n",
      " [32. 43. 39. 32. 24. 37. 21. 46. 46. 24. 40. 29. 27. 52.  4.  5.  0. 46.]\n",
      " [37. 50. 45. 37. 28. 43. 25. 54. 55. 27. 47. 34. 32. 61.  4.  5.  0. 54.]\n",
      " [42. 57. 51. 42. 32. 49. 29. 62. 64. 30. 54. 39. 37. 70.  4.  5.  0. 62.]\n",
      " [47. 64. 57. 47. 36. 55. 33. 70. 73. 33. 61. 44. 42. 79.  4.  5.  0. 70.]\n",
      " [52. 71. 63. 52. 40. 61. 37. 78. 82. 36. 68. 49. 47. 88.  4.  5.  0. 78.]\n",
      " [57. 78. 69. 57. 44. 67. 41. 86. 91. 39. 75. 54. 52. 97.  4.  5.  0. 86.]]\n"
     ]
    }
   ],
   "source": [
    "# Truncated NNM\n",
    "\n",
    "# initialize with Xobs\n",
    "# Set epsilon\n",
    "eps_outer = .001\n",
    "eps_inner = .001\n",
    "beta = 1\n",
    "\n",
    "# Set max iterations\n",
    "max_iter_outer = 1000\n",
    "max_iter_inner = 1000\n",
    "\n",
    "# Set rank as 2\n",
    "r = 2\n",
    "# Initialize with Xobs\n",
    "orig_X = Xobs\n",
    "\n",
    "# Step 1\n",
    "for l in range(max_iter_outer):\n",
    "    # Take SVD of X_observed\n",
    "    U, S, V_T = la.svd(orig_X , full_matrices=True)\n",
    "    V = V_T.T\n",
    "    # Get truncated U and V as A and B\n",
    "    A_l = U[:, :r].T\n",
    "    B_l = V[:, :r].T\n",
    "\n",
    "    new_X = ADMM(A_l, B_l, orig_X, eps_inner, beta, max_iter_inner)\n",
    "    #print(f\"new X_l after minimization = \\n {X_l_1}\")\n",
    "\n",
    "\n",
    "    # Only keep the new values\n",
    "    #X_l_1 = Xobs * Omega + X_l_1 * (1-Omega)\n",
    "\n",
    "    FN_outer = la.norm(new_X - orig_X, ord='fro')\n",
    "    print(\"FN_outer\", FN_outer)\n",
    "    if FN_outer < eps_outer:\n",
    "        break\n",
    "    \n",
    "    # Else, update X\n",
    "    orig_X = new_X\n",
    "\n",
    "np.set_printoptions(suppress=True)\n",
    "np.set_printoptions(precision=2)\n",
    "print(f\"FINAL X = \\n {new_X}\")\n",
    "\n",
    "\n",
    "\n",
    "\n"
   ]
  },
  {
   "cell_type": "code",
   "execution_count": null,
   "metadata": {},
   "outputs": [],
   "source": []
  },
  {
   "cell_type": "code",
   "execution_count": null,
   "metadata": {},
   "outputs": [],
   "source": []
  }
 ],
 "metadata": {
  "interpreter": {
   "hash": "c6ab49f5d33c3ce7301436240baf1d68fecd837c84762ac5739e8937c0d65714"
  },
  "kernelspec": {
   "display_name": "Python 3.9.7 64-bit ('env': venv)",
   "language": "python",
   "name": "python3"
  },
  "language_info": {
   "codemirror_mode": {
    "name": "ipython",
    "version": 3
   },
   "file_extension": ".py",
   "mimetype": "text/x-python",
   "name": "python",
   "nbconvert_exporter": "python",
   "pygments_lexer": "ipython3",
   "version": "3.9.7"
  },
  "orig_nbformat": 4
 },
 "nbformat": 4,
 "nbformat_minor": 2
}
